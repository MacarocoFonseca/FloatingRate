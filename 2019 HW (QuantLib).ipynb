{
 "cells": [
  {
   "cell_type": "markdown",
   "metadata": {},
   "source": [
    "# Home Assignment\n",
    "\n",
    "Today's date is January 15th 2019 and, to finance an investment project, a Company entered into a floating rate loan agreement with the following details:\n",
    "\n",
    "|  |  |\n",
    "|---|---|\n",
    "| **Notional** | EUR 38,000,000 |\n",
    "| **Start** | 17-01-2019 |\n",
    "| **Maturity** | 17-01-2029 |\n",
    "| **Interest** | Euribor 6M, half-yearly, act/360, modified following, adjusted |\n",
    "\n",
    "1. What are the estimated cash flows of this loan on the 15th of January of 2019?\n",
    "1. Consider that company wants to hedge its' interest rate risk with a Interest Rate Swap.\n",
    " 1. What would be the details of the swap in order to have a perfect hedge?\n",
    " 1. What would be the price of this swap considering that the counterparty charges 5bps running?\n",
    " 1. At the trade date, what is the market value of this swap?\n",
    " 1. Consider that today is 26th of November 2019 and calculate the daily historic market value of the swap (from 15.01.2019 to 26.11.2019).\n",
    "1. Another alternative would be to enter into a Interest Rate Swap that is cancellable once (european) after 5 years.\n",
    " 1. What would the the rate of the cancellable swap (also taking into account the 5bps charge)?\n",
    " 1. Consider that today is 26th of November 2019 and calculate the historic market value of the cancellabel swap (from 15.01.2019 to 26.11.2019)."
   ]
  },
  {
   "cell_type": "code",
   "execution_count": 1,
   "metadata": {},
   "outputs": [],
   "source": [
    "import QuantLib as ql\n",
    "import pandas as pd\n",
    "import numpy as np\n",
    "import re\n",
    "from datetime import date, datetime, timedelta\n",
    "import matplotlib.pyplot as plt\n",
    "%matplotlib inline"
   ]
  },
  {
   "cell_type": "markdown",
   "metadata": {},
   "source": [
    "### Market Data"
   ]
  },
  {
   "cell_type": "code",
   "execution_count": 2,
   "metadata": {},
   "outputs": [
    {
     "data": {
      "text/html": [
       "<div>\n",
       "<style scoped>\n",
       "    .dataframe tbody tr th:only-of-type {\n",
       "        vertical-align: middle;\n",
       "    }\n",
       "\n",
       "    .dataframe tbody tr th {\n",
       "        vertical-align: top;\n",
       "    }\n",
       "\n",
       "    .dataframe thead th {\n",
       "        text-align: right;\n",
       "    }\n",
       "</style>\n",
       "<table border=\"1\" class=\"dataframe\">\n",
       "  <thead>\n",
       "    <tr style=\"text-align: right;\">\n",
       "      <th></th>\n",
       "      <th>ON</th>\n",
       "      <th>6M</th>\n",
       "      <th>1Y</th>\n",
       "      <th>2Y</th>\n",
       "      <th>3Y</th>\n",
       "      <th>4Y</th>\n",
       "      <th>5Y</th>\n",
       "      <th>6Y</th>\n",
       "      <th>7Y</th>\n",
       "      <th>8Y</th>\n",
       "      <th>9Y</th>\n",
       "      <th>10Y</th>\n",
       "      <th>12Y</th>\n",
       "      <th>15Y</th>\n",
       "      <th>20Y</th>\n",
       "      <th>30Y</th>\n",
       "    </tr>\n",
       "  </thead>\n",
       "  <tbody>\n",
       "    <tr>\n",
       "      <th>2000-01-03</th>\n",
       "      <td>3.06</td>\n",
       "      <td>3.523</td>\n",
       "      <td>4.0150</td>\n",
       "      <td>4.515</td>\n",
       "      <td>4.885</td>\n",
       "      <td>5.0575</td>\n",
       "      <td>5.2225</td>\n",
       "      <td>5.435</td>\n",
       "      <td>5.565</td>\n",
       "      <td>5.685</td>\n",
       "      <td>5.795</td>\n",
       "      <td>5.855</td>\n",
       "      <td>5.9775</td>\n",
       "      <td>6.1225</td>\n",
       "      <td>6.2075</td>\n",
       "      <td>6.2225</td>\n",
       "    </tr>\n",
       "    <tr>\n",
       "      <th>2000-01-04</th>\n",
       "      <td>3.01</td>\n",
       "      <td>3.553</td>\n",
       "      <td>4.0375</td>\n",
       "      <td>4.555</td>\n",
       "      <td>4.895</td>\n",
       "      <td>5.1525</td>\n",
       "      <td>5.3225</td>\n",
       "      <td>5.435</td>\n",
       "      <td>5.585</td>\n",
       "      <td>5.695</td>\n",
       "      <td>5.795</td>\n",
       "      <td>5.865</td>\n",
       "      <td>5.9675</td>\n",
       "      <td>6.1125</td>\n",
       "      <td>6.2025</td>\n",
       "      <td>6.2175</td>\n",
       "    </tr>\n",
       "    <tr>\n",
       "      <th>2000-01-05</th>\n",
       "      <td>2.99</td>\n",
       "      <td>3.550</td>\n",
       "      <td>4.0425</td>\n",
       "      <td>4.535</td>\n",
       "      <td>4.865</td>\n",
       "      <td>5.1550</td>\n",
       "      <td>5.2950</td>\n",
       "      <td>5.425</td>\n",
       "      <td>5.555</td>\n",
       "      <td>5.685</td>\n",
       "      <td>5.785</td>\n",
       "      <td>5.855</td>\n",
       "      <td>5.9825</td>\n",
       "      <td>6.1275</td>\n",
       "      <td>6.2175</td>\n",
       "      <td>6.2325</td>\n",
       "    </tr>\n",
       "    <tr>\n",
       "      <th>2000-01-06</th>\n",
       "      <td>2.92</td>\n",
       "      <td>3.552</td>\n",
       "      <td>4.0375</td>\n",
       "      <td>4.585</td>\n",
       "      <td>4.905</td>\n",
       "      <td>5.1550</td>\n",
       "      <td>5.3350</td>\n",
       "      <td>5.485</td>\n",
       "      <td>5.615</td>\n",
       "      <td>5.755</td>\n",
       "      <td>5.845</td>\n",
       "      <td>5.915</td>\n",
       "      <td>6.0325</td>\n",
       "      <td>6.1775</td>\n",
       "      <td>6.2675</td>\n",
       "      <td>6.2825</td>\n",
       "    </tr>\n",
       "    <tr>\n",
       "      <th>2000-01-07</th>\n",
       "      <td>2.89</td>\n",
       "      <td>3.546</td>\n",
       "      <td>3.9975</td>\n",
       "      <td>4.525</td>\n",
       "      <td>4.865</td>\n",
       "      <td>5.1050</td>\n",
       "      <td>5.2850</td>\n",
       "      <td>5.435</td>\n",
       "      <td>5.585</td>\n",
       "      <td>5.725</td>\n",
       "      <td>5.825</td>\n",
       "      <td>5.895</td>\n",
       "      <td>5.9300</td>\n",
       "      <td>6.0800</td>\n",
       "      <td>6.1750</td>\n",
       "      <td>6.1900</td>\n",
       "    </tr>\n",
       "  </tbody>\n",
       "</table>\n",
       "</div>"
      ],
      "text/plain": [
       "              ON     6M      1Y     2Y     3Y      4Y      5Y     6Y     7Y  \\\n",
       "2000-01-03  3.06  3.523  4.0150  4.515  4.885  5.0575  5.2225  5.435  5.565   \n",
       "2000-01-04  3.01  3.553  4.0375  4.555  4.895  5.1525  5.3225  5.435  5.585   \n",
       "2000-01-05  2.99  3.550  4.0425  4.535  4.865  5.1550  5.2950  5.425  5.555   \n",
       "2000-01-06  2.92  3.552  4.0375  4.585  4.905  5.1550  5.3350  5.485  5.615   \n",
       "2000-01-07  2.89  3.546  3.9975  4.525  4.865  5.1050  5.2850  5.435  5.585   \n",
       "\n",
       "               8Y     9Y    10Y     12Y     15Y     20Y     30Y  \n",
       "2000-01-03  5.685  5.795  5.855  5.9775  6.1225  6.2075  6.2225  \n",
       "2000-01-04  5.695  5.795  5.865  5.9675  6.1125  6.2025  6.2175  \n",
       "2000-01-05  5.685  5.785  5.855  5.9825  6.1275  6.2175  6.2325  \n",
       "2000-01-06  5.755  5.845  5.915  6.0325  6.1775  6.2675  6.2825  \n",
       "2000-01-07  5.725  5.825  5.895  5.9300  6.0800  6.1750  6.1900  "
      ]
     },
     "execution_count": 2,
     "metadata": {},
     "output_type": "execute_result"
    }
   ],
   "source": [
    "import os\n",
    "\n",
    "if os.name == 'nt':\n",
    "    file = 'Y:/Notebooks/Aulas/Financial Derivatives/HW 2019.xlsm'\n",
    "else:\n",
    "    file = '/home/nhaga/Documents/Aulas/Financial Derivatives/HW 2019 Market Data.xlsx'\n",
    "\n",
    "swap_quotes = pd.read_excel(file, index_col=0, skiprows=1).dropna()    \n",
    "swap_quotes.head()"
   ]
  },
  {
   "cell_type": "code",
   "execution_count": 3,
   "metadata": {},
   "outputs": [
    {
     "data": {
      "text/plain": [
       "ON    -0.3690\n",
       "6M    -0.2360\n",
       "1Y    -0.2265\n",
       "2Y    -0.1729\n",
       "3Y    -0.0821\n",
       "4Y     0.0355\n",
       "5Y     0.1635\n",
       "6Y     0.2970\n",
       "7Y     0.4282\n",
       "8Y     0.5536\n",
       "9Y     0.6687\n",
       "10Y    0.7750\n",
       "12Y    0.9557\n",
       "15Y    1.1470\n",
       "20Y    1.3130\n",
       "30Y    1.3780\n",
       "Name: 2019-01-15 00:00:00, dtype: float64"
      ]
     },
     "execution_count": 3,
     "metadata": {},
     "output_type": "execute_result"
    }
   ],
   "source": [
    "swap_quotes.loc['2019-01-15']"
   ]
  },
  {
   "cell_type": "code",
   "execution_count": 4,
   "metadata": {},
   "outputs": [],
   "source": [
    "calculation_date = ql.Date(15, 1, 2019)\n",
    "ql.Settings.instance().evaluationDate = calculation_date"
   ]
  },
  {
   "cell_type": "markdown",
   "metadata": {},
   "source": [
    "## QuantLib Curve"
   ]
  },
  {
   "cell_type": "code",
   "execution_count": 5,
   "metadata": {},
   "outputs": [],
   "source": [
    "def makeSwapCurve(dt):\n",
    "    row = swap_quotes.loc[dt]\n",
    "    helpers = ql.RateHelperVector()\n",
    "    for tenor, value in row.items():\n",
    "        rate = float(row[tenor])/100\n",
    "        if tenor == 'ON':\n",
    "            helpers.append( ql.DepositRateHelper(rate, ql.Eonia()) )\n",
    "        elif tenor == '6M':\n",
    "            helpers.append( ql.DepositRateHelper(rate, ql.Euribor6M()) )\n",
    "        else:\n",
    "            helpers.append( ql.SwapRateHelper(rate, ql.EuriborSwapIsdaFixA(ql.Period(tenor))) )\n",
    "    curve = ql.PiecewiseLogCubicDiscount(0, ql.TARGET(), helpers, ql.Actual360())\n",
    "    curve.enableExtrapolation()\n",
    "    return curve"
   ]
  },
  {
   "cell_type": "code",
   "execution_count": 6,
   "metadata": {},
   "outputs": [],
   "source": [
    "yts = ql.RelinkableYieldTermStructureHandle()\n",
    "index = ql.Euribor6M(yts) \n",
    "swapEngine = ql.DiscountingSwapEngine(yts)"
   ]
  },
  {
   "cell_type": "code",
   "execution_count": 7,
   "metadata": {},
   "outputs": [],
   "source": [
    "curve = makeSwapCurve('2019-01-15')\n",
    "yts.linkTo(curve)"
   ]
  },
  {
   "cell_type": "code",
   "execution_count": 8,
   "metadata": {},
   "outputs": [
    {
     "data": {
      "text/plain": [
       "-0.0023586153294222756"
      ]
     },
     "execution_count": 8,
     "metadata": {},
     "output_type": "execute_result"
    }
   ],
   "source": [
    "curve.forwardRate(ql.Date(17,1,2019), ql.Date(17,7,2019), ql.Actual360(), ql.Annual).rate()"
   ]
  },
  {
   "cell_type": "markdown",
   "metadata": {},
   "source": [
    "# Answers"
   ]
  },
  {
   "cell_type": "code",
   "execution_count": 9,
   "metadata": {},
   "outputs": [],
   "source": [
    "calculation_date = ql.Date(15, 1, 2019)\n",
    "ql.Settings.instance().evaluationDate = calculation_date\n",
    "\n",
    "nominal = 38e6\n",
    "start = ql.Date(17,1,2019)\n",
    "maturity = ql.Date(17,1,2029)"
   ]
  },
  {
   "cell_type": "markdown",
   "metadata": {},
   "source": [
    "### 1. What are the estimated cash flows of this loan on the 15th of January of 2019?"
   ]
  },
  {
   "cell_type": "code",
   "execution_count": 10,
   "metadata": {},
   "outputs": [
    {
     "data": {
      "text/html": [
       "<style  type=\"text/css\" >\n",
       "</style><table id=\"T_e8c8bcec_4b86_11ea_a628_798d4265cdcc\" ><thead>    <tr>        <th class=\"blank level0\" ></th>        <th class=\"col_heading level0 col0\" >notional</th>        <th class=\"col_heading level0 col1\" >dcf</th>        <th class=\"col_heading level0 col2\" >rate</th>        <th class=\"col_heading level0 col3\" >amortization</th>        <th class=\"col_heading level0 col4\" >interest</th>        <th class=\"col_heading level0 col5\" >cf</th>    </tr>    <tr>        <th class=\"index_name level0\" >date</th>        <th class=\"blank\" ></th>        <th class=\"blank\" ></th>        <th class=\"blank\" ></th>        <th class=\"blank\" ></th>        <th class=\"blank\" ></th>        <th class=\"blank\" ></th>    </tr></thead><tbody>\n",
       "                <tr>\n",
       "                        <th id=\"T_e8c8bcec_4b86_11ea_a628_798d4265cdcclevel0_row0\" class=\"row_heading level0 row0\" >July 17th, 2019</th>\n",
       "                        <td id=\"T_e8c8bcec_4b86_11ea_a628_798d4265cdccrow0_col0\" class=\"data row0 col0\" >38,000,000.00</td>\n",
       "                        <td id=\"T_e8c8bcec_4b86_11ea_a628_798d4265cdccrow0_col1\" class=\"data row0 col1\" >0.502778</td>\n",
       "                        <td id=\"T_e8c8bcec_4b86_11ea_a628_798d4265cdccrow0_col2\" class=\"data row0 col2\" >-0.236</td>\n",
       "                        <td id=\"T_e8c8bcec_4b86_11ea_a628_798d4265cdccrow0_col3\" class=\"data row0 col3\" >0.00</td>\n",
       "                        <td id=\"T_e8c8bcec_4b86_11ea_a628_798d4265cdccrow0_col4\" class=\"data row0 col4\" >-45,089.11</td>\n",
       "                        <td id=\"T_e8c8bcec_4b86_11ea_a628_798d4265cdccrow0_col5\" class=\"data row0 col5\" >-45,089.11</td>\n",
       "            </tr>\n",
       "            <tr>\n",
       "                        <th id=\"T_e8c8bcec_4b86_11ea_a628_798d4265cdcclevel0_row1\" class=\"row_heading level0 row1\" >January 17th, 2020</th>\n",
       "                        <td id=\"T_e8c8bcec_4b86_11ea_a628_798d4265cdccrow1_col0\" class=\"data row1 col0\" >38,000,000.00</td>\n",
       "                        <td id=\"T_e8c8bcec_4b86_11ea_a628_798d4265cdccrow1_col1\" class=\"data row1 col1\" >0.511111</td>\n",
       "                        <td id=\"T_e8c8bcec_4b86_11ea_a628_798d4265cdccrow1_col2\" class=\"data row1 col2\" >-0.211251</td>\n",
       "                        <td id=\"T_e8c8bcec_4b86_11ea_a628_798d4265cdccrow1_col3\" class=\"data row1 col3\" >0.00</td>\n",
       "                        <td id=\"T_e8c8bcec_4b86_11ea_a628_798d4265cdccrow1_col4\" class=\"data row1 col4\" >-41,029.57</td>\n",
       "                        <td id=\"T_e8c8bcec_4b86_11ea_a628_798d4265cdccrow1_col5\" class=\"data row1 col5\" >-41,029.57</td>\n",
       "            </tr>\n",
       "            <tr>\n",
       "                        <th id=\"T_e8c8bcec_4b86_11ea_a628_798d4265cdcclevel0_row2\" class=\"row_heading level0 row2\" >July 17th, 2020</th>\n",
       "                        <td id=\"T_e8c8bcec_4b86_11ea_a628_798d4265cdccrow2_col0\" class=\"data row2 col0\" >38,000,000.00</td>\n",
       "                        <td id=\"T_e8c8bcec_4b86_11ea_a628_798d4265cdccrow2_col1\" class=\"data row2 col1\" >0.505556</td>\n",
       "                        <td id=\"T_e8c8bcec_4b86_11ea_a628_798d4265cdccrow2_col2\" class=\"data row2 col2\" >-0.162822</td>\n",
       "                        <td id=\"T_e8c8bcec_4b86_11ea_a628_798d4265cdccrow2_col3\" class=\"data row2 col3\" >0.00</td>\n",
       "                        <td id=\"T_e8c8bcec_4b86_11ea_a628_798d4265cdccrow2_col4\" class=\"data row2 col4\" >-31,279.84</td>\n",
       "                        <td id=\"T_e8c8bcec_4b86_11ea_a628_798d4265cdccrow2_col5\" class=\"data row2 col5\" >-31,279.84</td>\n",
       "            </tr>\n",
       "            <tr>\n",
       "                        <th id=\"T_e8c8bcec_4b86_11ea_a628_798d4265cdcclevel0_row3\" class=\"row_heading level0 row3\" >January 17th, 2021</th>\n",
       "                        <td id=\"T_e8c8bcec_4b86_11ea_a628_798d4265cdccrow3_col0\" class=\"data row3 col0\" >38,000,000.00</td>\n",
       "                        <td id=\"T_e8c8bcec_4b86_11ea_a628_798d4265cdccrow3_col1\" class=\"data row3 col1\" >0.511111</td>\n",
       "                        <td id=\"T_e8c8bcec_4b86_11ea_a628_798d4265cdccrow3_col2\" class=\"data row3 col2\" >-0.0730899</td>\n",
       "                        <td id=\"T_e8c8bcec_4b86_11ea_a628_798d4265cdccrow3_col3\" class=\"data row3 col3\" >0.00</td>\n",
       "                        <td id=\"T_e8c8bcec_4b86_11ea_a628_798d4265cdccrow3_col4\" class=\"data row3 col4\" >-14,195.67</td>\n",
       "                        <td id=\"T_e8c8bcec_4b86_11ea_a628_798d4265cdccrow3_col5\" class=\"data row3 col5\" >-14,195.67</td>\n",
       "            </tr>\n",
       "            <tr>\n",
       "                        <th id=\"T_e8c8bcec_4b86_11ea_a628_798d4265cdcclevel0_row4\" class=\"row_heading level0 row4\" >July 17th, 2021</th>\n",
       "                        <td id=\"T_e8c8bcec_4b86_11ea_a628_798d4265cdccrow4_col0\" class=\"data row4 col0\" >38,000,000.00</td>\n",
       "                        <td id=\"T_e8c8bcec_4b86_11ea_a628_798d4265cdccrow4_col1\" class=\"data row4 col1\" >0.502778</td>\n",
       "                        <td id=\"T_e8c8bcec_4b86_11ea_a628_798d4265cdccrow4_col2\" class=\"data row4 col2\" >0.0344139</td>\n",
       "                        <td id=\"T_e8c8bcec_4b86_11ea_a628_798d4265cdccrow4_col3\" class=\"data row4 col3\" >0.00</td>\n",
       "                        <td id=\"T_e8c8bcec_4b86_11ea_a628_798d4265cdccrow4_col4\" class=\"data row4 col4\" >6,574.97</td>\n",
       "                        <td id=\"T_e8c8bcec_4b86_11ea_a628_798d4265cdccrow4_col5\" class=\"data row4 col5\" >6,574.97</td>\n",
       "            </tr>\n",
       "            <tr>\n",
       "                        <th id=\"T_e8c8bcec_4b86_11ea_a628_798d4265cdcclevel0_row5\" class=\"row_heading level0 row5\" >January 17th, 2022</th>\n",
       "                        <td id=\"T_e8c8bcec_4b86_11ea_a628_798d4265cdccrow5_col0\" class=\"data row5 col0\" >38,000,000.00</td>\n",
       "                        <td id=\"T_e8c8bcec_4b86_11ea_a628_798d4265cdccrow5_col1\" class=\"data row5 col1\" >0.511111</td>\n",
       "                        <td id=\"T_e8c8bcec_4b86_11ea_a628_798d4265cdccrow5_col2\" class=\"data row5 col2\" >0.163465</td>\n",
       "                        <td id=\"T_e8c8bcec_4b86_11ea_a628_798d4265cdccrow5_col3\" class=\"data row5 col3\" >0.00</td>\n",
       "                        <td id=\"T_e8c8bcec_4b86_11ea_a628_798d4265cdccrow5_col4\" class=\"data row5 col4\" >31,748.58</td>\n",
       "                        <td id=\"T_e8c8bcec_4b86_11ea_a628_798d4265cdccrow5_col5\" class=\"data row5 col5\" >31,748.58</td>\n",
       "            </tr>\n",
       "            <tr>\n",
       "                        <th id=\"T_e8c8bcec_4b86_11ea_a628_798d4265cdcclevel0_row6\" class=\"row_heading level0 row6\" >July 17th, 2022</th>\n",
       "                        <td id=\"T_e8c8bcec_4b86_11ea_a628_798d4265cdccrow6_col0\" class=\"data row6 col0\" >38,000,000.00</td>\n",
       "                        <td id=\"T_e8c8bcec_4b86_11ea_a628_798d4265cdccrow6_col1\" class=\"data row6 col1\" >0.502778</td>\n",
       "                        <td id=\"T_e8c8bcec_4b86_11ea_a628_798d4265cdccrow6_col2\" class=\"data row6 col2\" >0.310951</td>\n",
       "                        <td id=\"T_e8c8bcec_4b86_11ea_a628_798d4265cdccrow6_col3\" class=\"data row6 col3\" >0.00</td>\n",
       "                        <td id=\"T_e8c8bcec_4b86_11ea_a628_798d4265cdccrow6_col4\" class=\"data row6 col4\" >59,408.98</td>\n",
       "                        <td id=\"T_e8c8bcec_4b86_11ea_a628_798d4265cdccrow6_col5\" class=\"data row6 col5\" >59,408.98</td>\n",
       "            </tr>\n",
       "            <tr>\n",
       "                        <th id=\"T_e8c8bcec_4b86_11ea_a628_798d4265cdcclevel0_row7\" class=\"row_heading level0 row7\" >January 17th, 2023</th>\n",
       "                        <td id=\"T_e8c8bcec_4b86_11ea_a628_798d4265cdccrow7_col0\" class=\"data row7 col0\" >38,000,000.00</td>\n",
       "                        <td id=\"T_e8c8bcec_4b86_11ea_a628_798d4265cdccrow7_col1\" class=\"data row7 col1\" >0.511111</td>\n",
       "                        <td id=\"T_e8c8bcec_4b86_11ea_a628_798d4265cdccrow7_col2\" class=\"data row7 col2\" >0.456791</td>\n",
       "                        <td id=\"T_e8c8bcec_4b86_11ea_a628_798d4265cdccrow7_col3\" class=\"data row7 col3\" >0.00</td>\n",
       "                        <td id=\"T_e8c8bcec_4b86_11ea_a628_798d4265cdccrow7_col4\" class=\"data row7 col4\" >88,718.87</td>\n",
       "                        <td id=\"T_e8c8bcec_4b86_11ea_a628_798d4265cdccrow7_col5\" class=\"data row7 col5\" >88,718.87</td>\n",
       "            </tr>\n",
       "            <tr>\n",
       "                        <th id=\"T_e8c8bcec_4b86_11ea_a628_798d4265cdcclevel0_row8\" class=\"row_heading level0 row8\" >July 17th, 2023</th>\n",
       "                        <td id=\"T_e8c8bcec_4b86_11ea_a628_798d4265cdccrow8_col0\" class=\"data row8 col0\" >38,000,000.00</td>\n",
       "                        <td id=\"T_e8c8bcec_4b86_11ea_a628_798d4265cdccrow8_col1\" class=\"data row8 col1\" >0.502778</td>\n",
       "                        <td id=\"T_e8c8bcec_4b86_11ea_a628_798d4265cdccrow8_col2\" class=\"data row8 col2\" >0.597221</td>\n",
       "                        <td id=\"T_e8c8bcec_4b86_11ea_a628_798d4265cdccrow8_col3\" class=\"data row8 col3\" >0.00</td>\n",
       "                        <td id=\"T_e8c8bcec_4b86_11ea_a628_798d4265cdccrow8_col4\" class=\"data row8 col4\" >114,102.46</td>\n",
       "                        <td id=\"T_e8c8bcec_4b86_11ea_a628_798d4265cdccrow8_col5\" class=\"data row8 col5\" >114,102.46</td>\n",
       "            </tr>\n",
       "            <tr>\n",
       "                        <th id=\"T_e8c8bcec_4b86_11ea_a628_798d4265cdcclevel0_row9\" class=\"row_heading level0 row9\" >January 17th, 2024</th>\n",
       "                        <td id=\"T_e8c8bcec_4b86_11ea_a628_798d4265cdccrow9_col0\" class=\"data row9 col0\" >38,000,000.00</td>\n",
       "                        <td id=\"T_e8c8bcec_4b86_11ea_a628_798d4265cdccrow9_col1\" class=\"data row9 col1\" >0.511111</td>\n",
       "                        <td id=\"T_e8c8bcec_4b86_11ea_a628_798d4265cdccrow9_col2\" class=\"data row9 col2\" >0.741888</td>\n",
       "                        <td id=\"T_e8c8bcec_4b86_11ea_a628_798d4265cdccrow9_col3\" class=\"data row9 col3\" >0.00</td>\n",
       "                        <td id=\"T_e8c8bcec_4b86_11ea_a628_798d4265cdccrow9_col4\" class=\"data row9 col4\" >144,091.21</td>\n",
       "                        <td id=\"T_e8c8bcec_4b86_11ea_a628_798d4265cdccrow9_col5\" class=\"data row9 col5\" >144,091.21</td>\n",
       "            </tr>\n",
       "            <tr>\n",
       "                        <th id=\"T_e8c8bcec_4b86_11ea_a628_798d4265cdcclevel0_row10\" class=\"row_heading level0 row10\" >July 17th, 2024</th>\n",
       "                        <td id=\"T_e8c8bcec_4b86_11ea_a628_798d4265cdccrow10_col0\" class=\"data row10 col0\" >38,000,000.00</td>\n",
       "                        <td id=\"T_e8c8bcec_4b86_11ea_a628_798d4265cdccrow10_col1\" class=\"data row10 col1\" >0.505556</td>\n",
       "                        <td id=\"T_e8c8bcec_4b86_11ea_a628_798d4265cdccrow10_col2\" class=\"data row10 col2\" >0.889529</td>\n",
       "                        <td id=\"T_e8c8bcec_4b86_11ea_a628_798d4265cdccrow10_col3\" class=\"data row10 col3\" >0.00</td>\n",
       "                        <td id=\"T_e8c8bcec_4b86_11ea_a628_798d4265cdccrow10_col4\" class=\"data row10 col4\" >170,888.39</td>\n",
       "                        <td id=\"T_e8c8bcec_4b86_11ea_a628_798d4265cdccrow10_col5\" class=\"data row10 col5\" >170,888.39</td>\n",
       "            </tr>\n",
       "            <tr>\n",
       "                        <th id=\"T_e8c8bcec_4b86_11ea_a628_798d4265cdcclevel0_row11\" class=\"row_heading level0 row11\" >January 17th, 2025</th>\n",
       "                        <td id=\"T_e8c8bcec_4b86_11ea_a628_798d4265cdccrow11_col0\" class=\"data row11 col0\" >38,000,000.00</td>\n",
       "                        <td id=\"T_e8c8bcec_4b86_11ea_a628_798d4265cdccrow11_col1\" class=\"data row11 col1\" >0.511111</td>\n",
       "                        <td id=\"T_e8c8bcec_4b86_11ea_a628_798d4265cdccrow11_col2\" class=\"data row11 col2\" >1.02584</td>\n",
       "                        <td id=\"T_e8c8bcec_4b86_11ea_a628_798d4265cdccrow11_col3\" class=\"data row11 col3\" >0.00</td>\n",
       "                        <td id=\"T_e8c8bcec_4b86_11ea_a628_798d4265cdccrow11_col4\" class=\"data row11 col4\" >199,241.45</td>\n",
       "                        <td id=\"T_e8c8bcec_4b86_11ea_a628_798d4265cdccrow11_col5\" class=\"data row11 col5\" >199,241.45</td>\n",
       "            </tr>\n",
       "            <tr>\n",
       "                        <th id=\"T_e8c8bcec_4b86_11ea_a628_798d4265cdcclevel0_row12\" class=\"row_heading level0 row12\" >July 17th, 2025</th>\n",
       "                        <td id=\"T_e8c8bcec_4b86_11ea_a628_798d4265cdccrow12_col0\" class=\"data row12 col0\" >38,000,000.00</td>\n",
       "                        <td id=\"T_e8c8bcec_4b86_11ea_a628_798d4265cdccrow12_col1\" class=\"data row12 col1\" >0.502778</td>\n",
       "                        <td id=\"T_e8c8bcec_4b86_11ea_a628_798d4265cdccrow12_col2\" class=\"data row12 col2\" >1.14956</td>\n",
       "                        <td id=\"T_e8c8bcec_4b86_11ea_a628_798d4265cdccrow12_col3\" class=\"data row12 col3\" >0.00</td>\n",
       "                        <td id=\"T_e8c8bcec_4b86_11ea_a628_798d4265cdccrow12_col4\" class=\"data row12 col4\" >219,629.53</td>\n",
       "                        <td id=\"T_e8c8bcec_4b86_11ea_a628_798d4265cdccrow12_col5\" class=\"data row12 col5\" >219,629.53</td>\n",
       "            </tr>\n",
       "            <tr>\n",
       "                        <th id=\"T_e8c8bcec_4b86_11ea_a628_798d4265cdcclevel0_row13\" class=\"row_heading level0 row13\" >January 17th, 2026</th>\n",
       "                        <td id=\"T_e8c8bcec_4b86_11ea_a628_798d4265cdccrow13_col0\" class=\"data row13 col0\" >38,000,000.00</td>\n",
       "                        <td id=\"T_e8c8bcec_4b86_11ea_a628_798d4265cdccrow13_col1\" class=\"data row13 col1\" >0.511111</td>\n",
       "                        <td id=\"T_e8c8bcec_4b86_11ea_a628_798d4265cdccrow13_col2\" class=\"data row13 col2\" >1.27275</td>\n",
       "                        <td id=\"T_e8c8bcec_4b86_11ea_a628_798d4265cdccrow13_col3\" class=\"data row13 col3\" >0.00</td>\n",
       "                        <td id=\"T_e8c8bcec_4b86_11ea_a628_798d4265cdccrow13_col4\" class=\"data row13 col4\" >247,195.70</td>\n",
       "                        <td id=\"T_e8c8bcec_4b86_11ea_a628_798d4265cdccrow13_col5\" class=\"data row13 col5\" >247,195.70</td>\n",
       "            </tr>\n",
       "            <tr>\n",
       "                        <th id=\"T_e8c8bcec_4b86_11ea_a628_798d4265cdcclevel0_row14\" class=\"row_heading level0 row14\" >July 17th, 2026</th>\n",
       "                        <td id=\"T_e8c8bcec_4b86_11ea_a628_798d4265cdccrow14_col0\" class=\"data row14 col0\" >38,000,000.00</td>\n",
       "                        <td id=\"T_e8c8bcec_4b86_11ea_a628_798d4265cdccrow14_col1\" class=\"data row14 col1\" >0.502778</td>\n",
       "                        <td id=\"T_e8c8bcec_4b86_11ea_a628_798d4265cdccrow14_col2\" class=\"data row14 col2\" >1.39228</td>\n",
       "                        <td id=\"T_e8c8bcec_4b86_11ea_a628_798d4265cdccrow14_col3\" class=\"data row14 col3\" >0.00</td>\n",
       "                        <td id=\"T_e8c8bcec_4b86_11ea_a628_798d4265cdccrow14_col4\" class=\"data row14 col4\" >266,003.74</td>\n",
       "                        <td id=\"T_e8c8bcec_4b86_11ea_a628_798d4265cdccrow14_col5\" class=\"data row14 col5\" >266,003.74</td>\n",
       "            </tr>\n",
       "            <tr>\n",
       "                        <th id=\"T_e8c8bcec_4b86_11ea_a628_798d4265cdcclevel0_row15\" class=\"row_heading level0 row15\" >January 17th, 2027</th>\n",
       "                        <td id=\"T_e8c8bcec_4b86_11ea_a628_798d4265cdccrow15_col0\" class=\"data row15 col0\" >38,000,000.00</td>\n",
       "                        <td id=\"T_e8c8bcec_4b86_11ea_a628_798d4265cdccrow15_col1\" class=\"data row15 col1\" >0.511111</td>\n",
       "                        <td id=\"T_e8c8bcec_4b86_11ea_a628_798d4265cdccrow15_col2\" class=\"data row15 col2\" >1.49209</td>\n",
       "                        <td id=\"T_e8c8bcec_4b86_11ea_a628_798d4265cdccrow15_col3\" class=\"data row15 col3\" >0.00</td>\n",
       "                        <td id=\"T_e8c8bcec_4b86_11ea_a628_798d4265cdccrow15_col4\" class=\"data row15 col4\" >289,796.92</td>\n",
       "                        <td id=\"T_e8c8bcec_4b86_11ea_a628_798d4265cdccrow15_col5\" class=\"data row15 col5\" >289,796.92</td>\n",
       "            </tr>\n",
       "            <tr>\n",
       "                        <th id=\"T_e8c8bcec_4b86_11ea_a628_798d4265cdcclevel0_row16\" class=\"row_heading level0 row16\" >July 17th, 2027</th>\n",
       "                        <td id=\"T_e8c8bcec_4b86_11ea_a628_798d4265cdccrow16_col0\" class=\"data row16 col0\" >38,000,000.00</td>\n",
       "                        <td id=\"T_e8c8bcec_4b86_11ea_a628_798d4265cdccrow16_col1\" class=\"data row16 col1\" >0.502778</td>\n",
       "                        <td id=\"T_e8c8bcec_4b86_11ea_a628_798d4265cdccrow16_col2\" class=\"data row16 col2\" >1.57226</td>\n",
       "                        <td id=\"T_e8c8bcec_4b86_11ea_a628_798d4265cdccrow16_col3\" class=\"data row16 col3\" >0.00</td>\n",
       "                        <td id=\"T_e8c8bcec_4b86_11ea_a628_798d4265cdccrow16_col4\" class=\"data row16 col4\" >300,388.84</td>\n",
       "                        <td id=\"T_e8c8bcec_4b86_11ea_a628_798d4265cdccrow16_col5\" class=\"data row16 col5\" >300,388.84</td>\n",
       "            </tr>\n",
       "            <tr>\n",
       "                        <th id=\"T_e8c8bcec_4b86_11ea_a628_798d4265cdcclevel0_row17\" class=\"row_heading level0 row17\" >January 17th, 2028</th>\n",
       "                        <td id=\"T_e8c8bcec_4b86_11ea_a628_798d4265cdccrow17_col0\" class=\"data row17 col0\" >38,000,000.00</td>\n",
       "                        <td id=\"T_e8c8bcec_4b86_11ea_a628_798d4265cdccrow17_col1\" class=\"data row17 col1\" >0.511111</td>\n",
       "                        <td id=\"T_e8c8bcec_4b86_11ea_a628_798d4265cdccrow17_col2\" class=\"data row17 col2\" >1.6478</td>\n",
       "                        <td id=\"T_e8c8bcec_4b86_11ea_a628_798d4265cdccrow17_col3\" class=\"data row17 col3\" >0.00</td>\n",
       "                        <td id=\"T_e8c8bcec_4b86_11ea_a628_798d4265cdccrow17_col4\" class=\"data row17 col4\" >320,039.99</td>\n",
       "                        <td id=\"T_e8c8bcec_4b86_11ea_a628_798d4265cdccrow17_col5\" class=\"data row17 col5\" >320,039.99</td>\n",
       "            </tr>\n",
       "            <tr>\n",
       "                        <th id=\"T_e8c8bcec_4b86_11ea_a628_798d4265cdcclevel0_row18\" class=\"row_heading level0 row18\" >July 17th, 2028</th>\n",
       "                        <td id=\"T_e8c8bcec_4b86_11ea_a628_798d4265cdccrow18_col0\" class=\"data row18 col0\" >38,000,000.00</td>\n",
       "                        <td id=\"T_e8c8bcec_4b86_11ea_a628_798d4265cdccrow18_col1\" class=\"data row18 col1\" >0.505556</td>\n",
       "                        <td id=\"T_e8c8bcec_4b86_11ea_a628_798d4265cdccrow18_col2\" class=\"data row18 col2\" >1.72185</td>\n",
       "                        <td id=\"T_e8c8bcec_4b86_11ea_a628_798d4265cdccrow18_col3\" class=\"data row18 col3\" >0.00</td>\n",
       "                        <td id=\"T_e8c8bcec_4b86_11ea_a628_798d4265cdccrow18_col4\" class=\"data row18 col4\" >330,786.50</td>\n",
       "                        <td id=\"T_e8c8bcec_4b86_11ea_a628_798d4265cdccrow18_col5\" class=\"data row18 col5\" >330,786.50</td>\n",
       "            </tr>\n",
       "            <tr>\n",
       "                        <th id=\"T_e8c8bcec_4b86_11ea_a628_798d4265cdcclevel0_row19\" class=\"row_heading level0 row19\" >January 17th, 2029</th>\n",
       "                        <td id=\"T_e8c8bcec_4b86_11ea_a628_798d4265cdccrow19_col0\" class=\"data row19 col0\" >38,000,000.00</td>\n",
       "                        <td id=\"T_e8c8bcec_4b86_11ea_a628_798d4265cdccrow19_col1\" class=\"data row19 col1\" >0.511111</td>\n",
       "                        <td id=\"T_e8c8bcec_4b86_11ea_a628_798d4265cdccrow19_col2\" class=\"data row19 col2\" >1.78863</td>\n",
       "                        <td id=\"T_e8c8bcec_4b86_11ea_a628_798d4265cdccrow19_col3\" class=\"data row19 col3\" >38,000,000.00</td>\n",
       "                        <td id=\"T_e8c8bcec_4b86_11ea_a628_798d4265cdccrow19_col4\" class=\"data row19 col4\" >347,392.64</td>\n",
       "                        <td id=\"T_e8c8bcec_4b86_11ea_a628_798d4265cdccrow19_col5\" class=\"data row19 col5\" >38,347,392.64</td>\n",
       "            </tr>\n",
       "    </tbody></table>"
      ],
      "text/plain": [
       "<pandas.io.formats.style.Styler at 0x7f3d240cbe10>"
      ]
     },
     "execution_count": 10,
     "metadata": {},
     "output_type": "execute_result"
    }
   ],
   "source": [
    "floatingSchedule = ql.MakeSchedule(start, maturity, ql.Period('6M'))\n",
    "bond = ql.FloatingRateBond(settlementDays = 2,\n",
    "                        faceAmount = nominal,\n",
    "                        schedule = floatingSchedule,\n",
    "                        index = index,\n",
    "                        paymentDayCounter = ql.Actual360())\n",
    "\n",
    "def cfs(bond):\n",
    "    interest = []\n",
    "    amort = []\n",
    "    for cf in bond.cashflows():\n",
    "        try:\n",
    "            row = { 'date': cf.date(), 'interest': cf.amount() }\n",
    "            c = ql.as_coupon(cf)\n",
    "            irow = { **row,  **{'dcf': c.accrualPeriod(), 'rate': c.rate() * 100}}\n",
    "            interest.append(irow)\n",
    "        except:\n",
    "            row = { 'date': cf.date(), 'amortization': cf.amount() }\n",
    "            amort.append(row)\n",
    "    i_df = pd.DataFrame(interest).set_index('date')\n",
    "    a_df = pd.DataFrame(amort).set_index('date')\n",
    "    df = i_df.join(a_df).fillna(0)\n",
    "    df['notional'] = nominal\n",
    "    df['cf'] = df.interest + df.amortization\n",
    "    return df[['notional', 'dcf', 'rate', 'amortization', 'interest', 'cf']].style.format({\n",
    "    'notional': '{:,.2f}'.format,\n",
    "    'interest': '{:,.2f}'.format,\n",
    "    'cf': '{:,.2f}'.format,\n",
    "    'amortization': '{:,.2f}'\n",
    "})\n",
    "\n",
    "cfs(bond)"
   ]
  },
  {
   "cell_type": "markdown",
   "metadata": {},
   "source": [
    "### 2. Consider that company wants to hedge its' interest rate risk with a Interest Rate Swap.\n",
    "#### A. What would be the details of the swap in order to have a perfect hedge?\n",
    "\n",
    "- Receive Leg: Euribor 6M, half-yearly, act/360, modified following, adjusted\n",
    "- Pay Leg: Fixed Rate (any convention)"
   ]
  },
  {
   "cell_type": "markdown",
   "metadata": {},
   "source": [
    "## Swap"
   ]
  },
  {
   "cell_type": "code",
   "execution_count": 15,
   "metadata": {},
   "outputs": [],
   "source": [
    "fixedLegAdjustment = ql.Unadjusted\n",
    "fixedLegDayCounter = ql.Thirty360()\n",
    "floatingLegDayCounter = ql.Actual360()\n",
    "calendar = ql.TARGET()\n",
    "\n",
    "\n",
    "def makeSwap(fixedRate):\n",
    "    fixedSchedule = ql.Schedule(start, maturity,\n",
    "                             ql.Period('1Y'), calendar,\n",
    "                             fixedLegAdjustment, fixedLegAdjustment,\n",
    "                             ql.DateGeneration.Forward, False)\n",
    "\n",
    "    swap = ql.VanillaSwap(ql.VanillaSwap.Payer, nominal,\n",
    "                          fixedSchedule, fixedRate, fixedLegDayCounter,\n",
    "                          floatingSchedule, index, 0,\n",
    "                          floatingLegDayCounter)\n",
    "\n",
    "    swap.setPricingEngine(swapEngine)\n",
    "    return swap\n"
   ]
  },
  {
   "cell_type": "markdown",
   "metadata": {},
   "source": [
    "#### B. What would be the price of this swap considering that the counterparty charges 5bps running?"
   ]
  },
  {
   "cell_type": "code",
   "execution_count": 16,
   "metadata": {},
   "outputs": [
    {
     "name": "stdout",
     "output_type": "stream",
     "text": [
      "Fair value of swap is:\t0.7753%\n",
      "Charge (%):\t\t0.0500%\n",
      "Final Rate:\t\t0.8253%\n"
     ]
    }
   ],
   "source": [
    "swap = makeSwap(0.005)\n",
    "charge = 0.0005\n",
    "swapRate = swap.fairRate()\n",
    "\n",
    "print(f\"Fair value of swap is:\\t{swapRate * 100:.4f}%\")\n",
    "print(f\"Charge (%):\\t\\t{charge * 100:.4f}%\")\n",
    "print(f\"Final Rate:\\t\\t{(swapRate + charge) * 100:.4f}%\")"
   ]
  },
  {
   "cell_type": "markdown",
   "metadata": {},
   "source": [
    "#### C. At the trade date, what is the market value of this swap?\n",
    "\n",
    "It would be the present value of the 5 bps"
   ]
  },
  {
   "cell_type": "code",
   "execution_count": 17,
   "metadata": {},
   "outputs": [
    {
     "name": "stdout",
     "output_type": "stream",
     "text": [
      "Value of 5 bps: -185,680.99\n"
     ]
    }
   ],
   "source": [
    "pv01 = swap.fixedLegBPS()\n",
    "print(f\"Value of 5 bps: {5 * pv01:,.2f}\")"
   ]
  },
  {
   "cell_type": "code",
   "execution_count": 18,
   "metadata": {},
   "outputs": [
    {
     "name": "stdout",
     "output_type": "stream",
     "text": [
      "Swap NPV: -185,680.99\n"
     ]
    }
   ],
   "source": [
    "swap = makeSwap(swapRate + charge)\n",
    "npv = swap.NPV()\n",
    "print(f\"Swap NPV: {npv:,.2f}\")"
   ]
  },
  {
   "cell_type": "markdown",
   "metadata": {},
   "source": [
    "#### D. Consider that today is 25th of November 2019 and calculate the daily historic market value of the swap (from 15.01.2019 to 26.11.2019)."
   ]
  },
  {
   "cell_type": "code",
   "execution_count": 19,
   "metadata": {},
   "outputs": [],
   "source": [
    "index.clearFixings()\n",
    "index.addFixing(ql.Date(15,1,2019), swap_quotes.loc['2019-01-15', '6M'] / 100)\n",
    "index.addFixing(ql.Date(15,7,2019), swap_quotes.loc['2019-07-15', '6M'] / 100)\n",
    "index.addFixing(ql.Date(21,1,2019), swap_quotes.loc['2019-01-21', '6M'] / 100)\n",
    "index.addFixing(ql.Date(19,7,2019), swap_quotes.loc['2019-07-19', '6M'] / 100)"
   ]
  },
  {
   "cell_type": "code",
   "execution_count": 20,
   "metadata": {},
   "outputs": [
    {
     "name": "stdout",
     "output_type": "stream",
     "text": [
      "CPU times: user 1.87 s, sys: 3.73 ms, total: 1.88 s\n",
      "Wall time: 1.88 s\n"
     ]
    }
   ],
   "source": [
    "%%time\n",
    "valuations = pd.DataFrame()\n",
    "for idx, row in swap_quotes.loc['2019-01-15':].iterrows():\n",
    "    today = ql.Date(idx.day, idx.month, idx.year)\n",
    "    ql.Settings.instance().evaluationDate = today\n",
    "    curve = makeSwapCurve(idx)\n",
    "    yts.linkTo(curve)\n",
    "    valuations.loc[idx, 'mtm'] = swap.NPV()"
   ]
  },
  {
   "cell_type": "code",
   "execution_count": 21,
   "metadata": {},
   "outputs": [
    {
     "data": {
      "image/png": "[encoded data removed]",
      "text/plain": [
       "<Figure size 1080x360 with 2 Axes>"
      ]
     },
     "metadata": {
      "needs_background": "light"
     },
     "output_type": "display_data"
    }
   ],
   "source": [
    "ax = valuations.plot()\n",
    "ax2 = ax.twinx()\n",
    "swap_quotes.loc['2019-01-15':, '10Y'].plot(figsize=(15,5));"
   ]
  },
  {
   "cell_type": "code",
   "execution_count": 22,
   "metadata": {},
   "outputs": [
    {
     "data": {
      "text/html": [
       "<style  type=\"text/css\" >\n",
       "</style><table id=\"T_03ccbaa2_4b87_11ea_a628_798d4265cdcc\" ><thead>    <tr>        <th class=\"blank level0\" ></th>        <th class=\"col_heading level0 col0\" >mtm</th>    </tr></thead><tbody>\n",
       "                <tr>\n",
       "                        <th id=\"T_03ccbaa2_4b87_11ea_a628_798d4265cdcclevel0_row0\" class=\"row_heading level0 row0\" >2019-01-15 00:00:00</th>\n",
       "                        <td id=\"T_03ccbaa2_4b87_11ea_a628_798d4265cdccrow0_col0\" class=\"data row0 col0\" >-185,680.99</td>\n",
       "            </tr>\n",
       "            <tr>\n",
       "                        <th id=\"T_03ccbaa2_4b87_11ea_a628_798d4265cdcclevel0_row1\" class=\"row_heading level0 row1\" >2019-01-16 00:00:00</th>\n",
       "                        <td id=\"T_03ccbaa2_4b87_11ea_a628_798d4265cdccrow1_col0\" class=\"data row1 col0\" >-152,355.55</td>\n",
       "            </tr>\n",
       "            <tr>\n",
       "                        <th id=\"T_03ccbaa2_4b87_11ea_a628_798d4265cdcclevel0_row2\" class=\"row_heading level0 row2\" >2019-01-17 00:00:00</th>\n",
       "                        <td id=\"T_03ccbaa2_4b87_11ea_a628_798d4265cdccrow2_col0\" class=\"data row2 col0\" >-121,190.34</td>\n",
       "            </tr>\n",
       "            <tr>\n",
       "                        <th id=\"T_03ccbaa2_4b87_11ea_a628_798d4265cdcclevel0_row3\" class=\"row_heading level0 row3\" >2019-01-18 00:00:00</th>\n",
       "                        <td id=\"T_03ccbaa2_4b87_11ea_a628_798d4265cdccrow3_col0\" class=\"data row3 col0\" >-69,273.22</td>\n",
       "            </tr>\n",
       "            <tr>\n",
       "                        <th id=\"T_03ccbaa2_4b87_11ea_a628_798d4265cdcclevel0_row4\" class=\"row_heading level0 row4\" >2019-01-21 00:00:00</th>\n",
       "                        <td id=\"T_03ccbaa2_4b87_11ea_a628_798d4265cdccrow4_col0\" class=\"data row4 col0\" >-103,305.12</td>\n",
       "            </tr>\n",
       "    </tbody></table>"
      ],
      "text/plain": [
       "<pandas.io.formats.style.Styler at 0x7f3d1f776eb8>"
      ]
     },
     "execution_count": 22,
     "metadata": {},
     "output_type": "execute_result"
    }
   ],
   "source": [
    "valuations.head().style.format({\n",
    "    'mtm': '{:,.2f}'.format,\n",
    "        })"
   ]
  },
  {
   "cell_type": "markdown",
   "metadata": {},
   "source": [
    "#### E. Show a table for each of the swap legs with the future cashflows considering that today is the 25th of November 2019"
   ]
  },
  {
   "cell_type": "code",
   "execution_count": 23,
   "metadata": {},
   "outputs": [],
   "source": [
    "today = ql.Date(25, 11, 2019)\n",
    "ql.Settings.instance().evaluationDate = today\n",
    "curve = makeSwapCurve('2019-11-25')\n",
    "yts.linkTo(curve)"
   ]
  },
  {
   "cell_type": "code",
   "execution_count": 24,
   "metadata": {},
   "outputs": [
    {
     "data": {
      "text/html": [
       "<style  type=\"text/css\" >\n",
       "</style><table id=\"T_0535c942_4b87_11ea_a628_798d4265cdcc\" ><thead>    <tr>        <th class=\"blank level0\" ></th>        <th class=\"col_heading level0 col0\" >nominal</th>        <th class=\"col_heading level0 col1\" >accrualStartDate</th>        <th class=\"col_heading level0 col2\" >accrualEndDate</th>        <th class=\"col_heading level0 col3\" >date</th>        <th class=\"col_heading level0 col4\" >accrualDays</th>        <th class=\"col_heading level0 col5\" >accrualPeriod</th>        <th class=\"col_heading level0 col6\" >rate</th>        <th class=\"col_heading level0 col7\" >amount</th>    </tr></thead><tbody>\n",
       "                <tr>\n",
       "                        <th id=\"T_0535c942_4b87_11ea_a628_798d4265cdcclevel0_row0\" class=\"row_heading level0 row0\" >0</th>\n",
       "                        <td id=\"T_0535c942_4b87_11ea_a628_798d4265cdccrow0_col0\" class=\"data row0 col0\" >38,000,000.00</td>\n",
       "                        <td id=\"T_0535c942_4b87_11ea_a628_798d4265cdccrow0_col1\" class=\"data row0 col1\" >January 17th, 2019</td>\n",
       "                        <td id=\"T_0535c942_4b87_11ea_a628_798d4265cdccrow0_col2\" class=\"data row0 col2\" >July 17th, 2019</td>\n",
       "                        <td id=\"T_0535c942_4b87_11ea_a628_798d4265cdccrow0_col3\" class=\"data row0 col3\" >July 17th, 2019</td>\n",
       "                        <td id=\"T_0535c942_4b87_11ea_a628_798d4265cdccrow0_col4\" class=\"data row0 col4\" >181</td>\n",
       "                        <td id=\"T_0535c942_4b87_11ea_a628_798d4265cdccrow0_col5\" class=\"data row0 col5\" >0.502778</td>\n",
       "                        <td id=\"T_0535c942_4b87_11ea_a628_798d4265cdccrow0_col6\" class=\"data row0 col6\" >-0.00236</td>\n",
       "                        <td id=\"T_0535c942_4b87_11ea_a628_798d4265cdccrow0_col7\" class=\"data row0 col7\" >-45,089.11</td>\n",
       "            </tr>\n",
       "            <tr>\n",
       "                        <th id=\"T_0535c942_4b87_11ea_a628_798d4265cdcclevel0_row1\" class=\"row_heading level0 row1\" >1</th>\n",
       "                        <td id=\"T_0535c942_4b87_11ea_a628_798d4265cdccrow1_col0\" class=\"data row1 col0\" >38,000,000.00</td>\n",
       "                        <td id=\"T_0535c942_4b87_11ea_a628_798d4265cdccrow1_col1\" class=\"data row1 col1\" >July 17th, 2019</td>\n",
       "                        <td id=\"T_0535c942_4b87_11ea_a628_798d4265cdccrow1_col2\" class=\"data row1 col2\" >January 17th, 2020</td>\n",
       "                        <td id=\"T_0535c942_4b87_11ea_a628_798d4265cdccrow1_col3\" class=\"data row1 col3\" >January 17th, 2020</td>\n",
       "                        <td id=\"T_0535c942_4b87_11ea_a628_798d4265cdccrow1_col4\" class=\"data row1 col4\" >184</td>\n",
       "                        <td id=\"T_0535c942_4b87_11ea_a628_798d4265cdccrow1_col5\" class=\"data row1 col5\" >0.511111</td>\n",
       "                        <td id=\"T_0535c942_4b87_11ea_a628_798d4265cdccrow1_col6\" class=\"data row1 col6\" >-0.00343</td>\n",
       "                        <td id=\"T_0535c942_4b87_11ea_a628_798d4265cdccrow1_col7\" class=\"data row1 col7\" >-66,618.22</td>\n",
       "            </tr>\n",
       "            <tr>\n",
       "                        <th id=\"T_0535c942_4b87_11ea_a628_798d4265cdcclevel0_row2\" class=\"row_heading level0 row2\" >2</th>\n",
       "                        <td id=\"T_0535c942_4b87_11ea_a628_798d4265cdccrow2_col0\" class=\"data row2 col0\" >38,000,000.00</td>\n",
       "                        <td id=\"T_0535c942_4b87_11ea_a628_798d4265cdccrow2_col1\" class=\"data row2 col1\" >January 17th, 2020</td>\n",
       "                        <td id=\"T_0535c942_4b87_11ea_a628_798d4265cdccrow2_col2\" class=\"data row2 col2\" >July 17th, 2020</td>\n",
       "                        <td id=\"T_0535c942_4b87_11ea_a628_798d4265cdccrow2_col3\" class=\"data row2 col3\" >July 17th, 2020</td>\n",
       "                        <td id=\"T_0535c942_4b87_11ea_a628_798d4265cdccrow2_col4\" class=\"data row2 col4\" >182</td>\n",
       "                        <td id=\"T_0535c942_4b87_11ea_a628_798d4265cdccrow2_col5\" class=\"data row2 col5\" >0.505556</td>\n",
       "                        <td id=\"T_0535c942_4b87_11ea_a628_798d4265cdccrow2_col6\" class=\"data row2 col6\" >-0.00316967</td>\n",
       "                        <td id=\"T_0535c942_4b87_11ea_a628_798d4265cdccrow2_col7\" class=\"data row2 col7\" >-60,892.92</td>\n",
       "            </tr>\n",
       "            <tr>\n",
       "                        <th id=\"T_0535c942_4b87_11ea_a628_798d4265cdcclevel0_row3\" class=\"row_heading level0 row3\" >3</th>\n",
       "                        <td id=\"T_0535c942_4b87_11ea_a628_798d4265cdccrow3_col0\" class=\"data row3 col0\" >38,000,000.00</td>\n",
       "                        <td id=\"T_0535c942_4b87_11ea_a628_798d4265cdccrow3_col1\" class=\"data row3 col1\" >July 17th, 2020</td>\n",
       "                        <td id=\"T_0535c942_4b87_11ea_a628_798d4265cdccrow3_col2\" class=\"data row3 col2\" >January 17th, 2021</td>\n",
       "                        <td id=\"T_0535c942_4b87_11ea_a628_798d4265cdccrow3_col3\" class=\"data row3 col3\" >January 17th, 2021</td>\n",
       "                        <td id=\"T_0535c942_4b87_11ea_a628_798d4265cdccrow3_col4\" class=\"data row3 col4\" >184</td>\n",
       "                        <td id=\"T_0535c942_4b87_11ea_a628_798d4265cdccrow3_col5\" class=\"data row3 col5\" >0.511111</td>\n",
       "                        <td id=\"T_0535c942_4b87_11ea_a628_798d4265cdccrow3_col6\" class=\"data row3 col6\" >-0.00350502</td>\n",
       "                        <td id=\"T_0535c942_4b87_11ea_a628_798d4265cdccrow3_col7\" class=\"data row3 col7\" >-68,075.32</td>\n",
       "            </tr>\n",
       "            <tr>\n",
       "                        <th id=\"T_0535c942_4b87_11ea_a628_798d4265cdcclevel0_row4\" class=\"row_heading level0 row4\" >4</th>\n",
       "                        <td id=\"T_0535c942_4b87_11ea_a628_798d4265cdccrow4_col0\" class=\"data row4 col0\" >38,000,000.00</td>\n",
       "                        <td id=\"T_0535c942_4b87_11ea_a628_798d4265cdccrow4_col1\" class=\"data row4 col1\" >January 17th, 2021</td>\n",
       "                        <td id=\"T_0535c942_4b87_11ea_a628_798d4265cdccrow4_col2\" class=\"data row4 col2\" >July 17th, 2021</td>\n",
       "                        <td id=\"T_0535c942_4b87_11ea_a628_798d4265cdccrow4_col3\" class=\"data row4 col3\" >July 17th, 2021</td>\n",
       "                        <td id=\"T_0535c942_4b87_11ea_a628_798d4265cdccrow4_col4\" class=\"data row4 col4\" >181</td>\n",
       "                        <td id=\"T_0535c942_4b87_11ea_a628_798d4265cdccrow4_col5\" class=\"data row4 col5\" >0.502778</td>\n",
       "                        <td id=\"T_0535c942_4b87_11ea_a628_798d4265cdccrow4_col6\" class=\"data row4 col6\" >-0.00336113</td>\n",
       "                        <td id=\"T_0535c942_4b87_11ea_a628_798d4265cdccrow4_col7\" class=\"data row4 col7\" >-64,216.21</td>\n",
       "            </tr>\n",
       "            <tr>\n",
       "                        <th id=\"T_0535c942_4b87_11ea_a628_798d4265cdcclevel0_row5\" class=\"row_heading level0 row5\" >5</th>\n",
       "                        <td id=\"T_0535c942_4b87_11ea_a628_798d4265cdccrow5_col0\" class=\"data row5 col0\" >38,000,000.00</td>\n",
       "                        <td id=\"T_0535c942_4b87_11ea_a628_798d4265cdccrow5_col1\" class=\"data row5 col1\" >July 17th, 2021</td>\n",
       "                        <td id=\"T_0535c942_4b87_11ea_a628_798d4265cdccrow5_col2\" class=\"data row5 col2\" >January 17th, 2022</td>\n",
       "                        <td id=\"T_0535c942_4b87_11ea_a628_798d4265cdccrow5_col3\" class=\"data row5 col3\" >January 17th, 2022</td>\n",
       "                        <td id=\"T_0535c942_4b87_11ea_a628_798d4265cdccrow5_col4\" class=\"data row5 col4\" >184</td>\n",
       "                        <td id=\"T_0535c942_4b87_11ea_a628_798d4265cdccrow5_col5\" class=\"data row5 col5\" >0.511111</td>\n",
       "                        <td id=\"T_0535c942_4b87_11ea_a628_798d4265cdccrow5_col6\" class=\"data row5 col6\" >-0.00304298</td>\n",
       "                        <td id=\"T_0535c942_4b87_11ea_a628_798d4265cdccrow5_col7\" class=\"data row5 col7\" >-59,101.34</td>\n",
       "            </tr>\n",
       "            <tr>\n",
       "                        <th id=\"T_0535c942_4b87_11ea_a628_798d4265cdcclevel0_row6\" class=\"row_heading level0 row6\" >6</th>\n",
       "                        <td id=\"T_0535c942_4b87_11ea_a628_798d4265cdccrow6_col0\" class=\"data row6 col0\" >38,000,000.00</td>\n",
       "                        <td id=\"T_0535c942_4b87_11ea_a628_798d4265cdccrow6_col1\" class=\"data row6 col1\" >January 17th, 2022</td>\n",
       "                        <td id=\"T_0535c942_4b87_11ea_a628_798d4265cdccrow6_col2\" class=\"data row6 col2\" >July 17th, 2022</td>\n",
       "                        <td id=\"T_0535c942_4b87_11ea_a628_798d4265cdccrow6_col3\" class=\"data row6 col3\" >July 17th, 2022</td>\n",
       "                        <td id=\"T_0535c942_4b87_11ea_a628_798d4265cdccrow6_col4\" class=\"data row6 col4\" >181</td>\n",
       "                        <td id=\"T_0535c942_4b87_11ea_a628_798d4265cdccrow6_col5\" class=\"data row6 col5\" >0.502778</td>\n",
       "                        <td id=\"T_0535c942_4b87_11ea_a628_798d4265cdccrow6_col6\" class=\"data row6 col6\" >-0.00263233</td>\n",
       "                        <td id=\"T_0535c942_4b87_11ea_a628_798d4265cdccrow6_col7\" class=\"data row6 col7\" >-50,292.15</td>\n",
       "            </tr>\n",
       "            <tr>\n",
       "                        <th id=\"T_0535c942_4b87_11ea_a628_798d4265cdcclevel0_row7\" class=\"row_heading level0 row7\" >7</th>\n",
       "                        <td id=\"T_0535c942_4b87_11ea_a628_798d4265cdccrow7_col0\" class=\"data row7 col0\" >38,000,000.00</td>\n",
       "                        <td id=\"T_0535c942_4b87_11ea_a628_798d4265cdccrow7_col1\" class=\"data row7 col1\" >July 17th, 2022</td>\n",
       "                        <td id=\"T_0535c942_4b87_11ea_a628_798d4265cdccrow7_col2\" class=\"data row7 col2\" >January 17th, 2023</td>\n",
       "                        <td id=\"T_0535c942_4b87_11ea_a628_798d4265cdccrow7_col3\" class=\"data row7 col3\" >January 17th, 2023</td>\n",
       "                        <td id=\"T_0535c942_4b87_11ea_a628_798d4265cdccrow7_col4\" class=\"data row7 col4\" >184</td>\n",
       "                        <td id=\"T_0535c942_4b87_11ea_a628_798d4265cdccrow7_col5\" class=\"data row7 col5\" >0.511111</td>\n",
       "                        <td id=\"T_0535c942_4b87_11ea_a628_798d4265cdccrow7_col6\" class=\"data row7 col6\" >-0.00214975</td>\n",
       "                        <td id=\"T_0535c942_4b87_11ea_a628_798d4265cdccrow7_col7\" class=\"data row7 col7\" >-41,752.97</td>\n",
       "            </tr>\n",
       "            <tr>\n",
       "                        <th id=\"T_0535c942_4b87_11ea_a628_798d4265cdcclevel0_row8\" class=\"row_heading level0 row8\" >8</th>\n",
       "                        <td id=\"T_0535c942_4b87_11ea_a628_798d4265cdccrow8_col0\" class=\"data row8 col0\" >38,000,000.00</td>\n",
       "                        <td id=\"T_0535c942_4b87_11ea_a628_798d4265cdccrow8_col1\" class=\"data row8 col1\" >January 17th, 2023</td>\n",
       "                        <td id=\"T_0535c942_4b87_11ea_a628_798d4265cdccrow8_col2\" class=\"data row8 col2\" >July 17th, 2023</td>\n",
       "                        <td id=\"T_0535c942_4b87_11ea_a628_798d4265cdccrow8_col3\" class=\"data row8 col3\" >July 17th, 2023</td>\n",
       "                        <td id=\"T_0535c942_4b87_11ea_a628_798d4265cdccrow8_col4\" class=\"data row8 col4\" >181</td>\n",
       "                        <td id=\"T_0535c942_4b87_11ea_a628_798d4265cdccrow8_col5\" class=\"data row8 col5\" >0.502778</td>\n",
       "                        <td id=\"T_0535c942_4b87_11ea_a628_798d4265cdccrow8_col6\" class=\"data row8 col6\" >-0.00161873</td>\n",
       "                        <td id=\"T_0535c942_4b87_11ea_a628_798d4265cdccrow8_col7\" class=\"data row8 col7\" >-30,926.68</td>\n",
       "            </tr>\n",
       "            <tr>\n",
       "                        <th id=\"T_0535c942_4b87_11ea_a628_798d4265cdcclevel0_row9\" class=\"row_heading level0 row9\" >9</th>\n",
       "                        <td id=\"T_0535c942_4b87_11ea_a628_798d4265cdccrow9_col0\" class=\"data row9 col0\" >38,000,000.00</td>\n",
       "                        <td id=\"T_0535c942_4b87_11ea_a628_798d4265cdccrow9_col1\" class=\"data row9 col1\" >July 17th, 2023</td>\n",
       "                        <td id=\"T_0535c942_4b87_11ea_a628_798d4265cdccrow9_col2\" class=\"data row9 col2\" >January 17th, 2024</td>\n",
       "                        <td id=\"T_0535c942_4b87_11ea_a628_798d4265cdccrow9_col3\" class=\"data row9 col3\" >January 17th, 2024</td>\n",
       "                        <td id=\"T_0535c942_4b87_11ea_a628_798d4265cdccrow9_col4\" class=\"data row9 col4\" >184</td>\n",
       "                        <td id=\"T_0535c942_4b87_11ea_a628_798d4265cdccrow9_col5\" class=\"data row9 col5\" >0.511111</td>\n",
       "                        <td id=\"T_0535c942_4b87_11ea_a628_798d4265cdccrow9_col6\" class=\"data row9 col6\" >-0.00106988</td>\n",
       "                        <td id=\"T_0535c942_4b87_11ea_a628_798d4265cdccrow9_col7\" class=\"data row9 col7\" >-20,779.48</td>\n",
       "            </tr>\n",
       "            <tr>\n",
       "                        <th id=\"T_0535c942_4b87_11ea_a628_798d4265cdcclevel0_row10\" class=\"row_heading level0 row10\" >10</th>\n",
       "                        <td id=\"T_0535c942_4b87_11ea_a628_798d4265cdccrow10_col0\" class=\"data row10 col0\" >38,000,000.00</td>\n",
       "                        <td id=\"T_0535c942_4b87_11ea_a628_798d4265cdccrow10_col1\" class=\"data row10 col1\" >January 17th, 2024</td>\n",
       "                        <td id=\"T_0535c942_4b87_11ea_a628_798d4265cdccrow10_col2\" class=\"data row10 col2\" >July 17th, 2024</td>\n",
       "                        <td id=\"T_0535c942_4b87_11ea_a628_798d4265cdccrow10_col3\" class=\"data row10 col3\" >July 17th, 2024</td>\n",
       "                        <td id=\"T_0535c942_4b87_11ea_a628_798d4265cdccrow10_col4\" class=\"data row10 col4\" >182</td>\n",
       "                        <td id=\"T_0535c942_4b87_11ea_a628_798d4265cdccrow10_col5\" class=\"data row10 col5\" >0.505556</td>\n",
       "                        <td id=\"T_0535c942_4b87_11ea_a628_798d4265cdccrow10_col6\" class=\"data row10 col6\" >-0.00049245</td>\n",
       "                        <td id=\"T_0535c942_4b87_11ea_a628_798d4265cdccrow10_col7\" class=\"data row10 col7\" >-9,460.51</td>\n",
       "            </tr>\n",
       "            <tr>\n",
       "                        <th id=\"T_0535c942_4b87_11ea_a628_798d4265cdcclevel0_row11\" class=\"row_heading level0 row11\" >11</th>\n",
       "                        <td id=\"T_0535c942_4b87_11ea_a628_798d4265cdccrow11_col0\" class=\"data row11 col0\" >38,000,000.00</td>\n",
       "                        <td id=\"T_0535c942_4b87_11ea_a628_798d4265cdccrow11_col1\" class=\"data row11 col1\" >July 17th, 2024</td>\n",
       "                        <td id=\"T_0535c942_4b87_11ea_a628_798d4265cdccrow11_col2\" class=\"data row11 col2\" >January 17th, 2025</td>\n",
       "                        <td id=\"T_0535c942_4b87_11ea_a628_798d4265cdccrow11_col3\" class=\"data row11 col3\" >January 17th, 2025</td>\n",
       "                        <td id=\"T_0535c942_4b87_11ea_a628_798d4265cdccrow11_col4\" class=\"data row11 col4\" >184</td>\n",
       "                        <td id=\"T_0535c942_4b87_11ea_a628_798d4265cdccrow11_col5\" class=\"data row11 col5\" >0.511111</td>\n",
       "                        <td id=\"T_0535c942_4b87_11ea_a628_798d4265cdccrow11_col6\" class=\"data row11 col6\" >0.000137917</td>\n",
       "                        <td id=\"T_0535c942_4b87_11ea_a628_798d4265cdccrow11_col7\" class=\"data row11 col7\" >2,678.65</td>\n",
       "            </tr>\n",
       "            <tr>\n",
       "                        <th id=\"T_0535c942_4b87_11ea_a628_798d4265cdcclevel0_row12\" class=\"row_heading level0 row12\" >12</th>\n",
       "                        <td id=\"T_0535c942_4b87_11ea_a628_798d4265cdccrow12_col0\" class=\"data row12 col0\" >38,000,000.00</td>\n",
       "                        <td id=\"T_0535c942_4b87_11ea_a628_798d4265cdccrow12_col1\" class=\"data row12 col1\" >January 17th, 2025</td>\n",
       "                        <td id=\"T_0535c942_4b87_11ea_a628_798d4265cdccrow12_col2\" class=\"data row12 col2\" >July 17th, 2025</td>\n",
       "                        <td id=\"T_0535c942_4b87_11ea_a628_798d4265cdccrow12_col3\" class=\"data row12 col3\" >July 17th, 2025</td>\n",
       "                        <td id=\"T_0535c942_4b87_11ea_a628_798d4265cdccrow12_col4\" class=\"data row12 col4\" >181</td>\n",
       "                        <td id=\"T_0535c942_4b87_11ea_a628_798d4265cdccrow12_col5\" class=\"data row12 col5\" >0.502778</td>\n",
       "                        <td id=\"T_0535c942_4b87_11ea_a628_798d4265cdccrow12_col6\" class=\"data row12 col6\" >0.000787301</td>\n",
       "                        <td id=\"T_0535c942_4b87_11ea_a628_798d4265cdccrow12_col7\" class=\"data row12 col7\" >15,041.82</td>\n",
       "            </tr>\n",
       "            <tr>\n",
       "                        <th id=\"T_0535c942_4b87_11ea_a628_798d4265cdcclevel0_row13\" class=\"row_heading level0 row13\" >13</th>\n",
       "                        <td id=\"T_0535c942_4b87_11ea_a628_798d4265cdccrow13_col0\" class=\"data row13 col0\" >38,000,000.00</td>\n",
       "                        <td id=\"T_0535c942_4b87_11ea_a628_798d4265cdccrow13_col1\" class=\"data row13 col1\" >July 17th, 2025</td>\n",
       "                        <td id=\"T_0535c942_4b87_11ea_a628_798d4265cdccrow13_col2\" class=\"data row13 col2\" >January 17th, 2026</td>\n",
       "                        <td id=\"T_0535c942_4b87_11ea_a628_798d4265cdccrow13_col3\" class=\"data row13 col3\" >January 17th, 2026</td>\n",
       "                        <td id=\"T_0535c942_4b87_11ea_a628_798d4265cdccrow13_col4\" class=\"data row13 col4\" >184</td>\n",
       "                        <td id=\"T_0535c942_4b87_11ea_a628_798d4265cdccrow13_col5\" class=\"data row13 col5\" >0.511111</td>\n",
       "                        <td id=\"T_0535c942_4b87_11ea_a628_798d4265cdccrow13_col6\" class=\"data row13 col6\" >0.00139836</td>\n",
       "                        <td id=\"T_0535c942_4b87_11ea_a628_798d4265cdccrow13_col7\" class=\"data row13 col7\" >27,159.33</td>\n",
       "            </tr>\n",
       "            <tr>\n",
       "                        <th id=\"T_0535c942_4b87_11ea_a628_798d4265cdcclevel0_row14\" class=\"row_heading level0 row14\" >14</th>\n",
       "                        <td id=\"T_0535c942_4b87_11ea_a628_798d4265cdccrow14_col0\" class=\"data row14 col0\" >38,000,000.00</td>\n",
       "                        <td id=\"T_0535c942_4b87_11ea_a628_798d4265cdccrow14_col1\" class=\"data row14 col1\" >January 17th, 2026</td>\n",
       "                        <td id=\"T_0535c942_4b87_11ea_a628_798d4265cdccrow14_col2\" class=\"data row14 col2\" >July 17th, 2026</td>\n",
       "                        <td id=\"T_0535c942_4b87_11ea_a628_798d4265cdccrow14_col3\" class=\"data row14 col3\" >July 17th, 2026</td>\n",
       "                        <td id=\"T_0535c942_4b87_11ea_a628_798d4265cdccrow14_col4\" class=\"data row14 col4\" >181</td>\n",
       "                        <td id=\"T_0535c942_4b87_11ea_a628_798d4265cdccrow14_col5\" class=\"data row14 col5\" >0.502778</td>\n",
       "                        <td id=\"T_0535c942_4b87_11ea_a628_798d4265cdccrow14_col6\" class=\"data row14 col6\" >0.00201542</td>\n",
       "                        <td id=\"T_0535c942_4b87_11ea_a628_798d4265cdccrow14_col7\" class=\"data row14 col7\" >38,505.80</td>\n",
       "            </tr>\n",
       "            <tr>\n",
       "                        <th id=\"T_0535c942_4b87_11ea_a628_798d4265cdcclevel0_row15\" class=\"row_heading level0 row15\" >15</th>\n",
       "                        <td id=\"T_0535c942_4b87_11ea_a628_798d4265cdccrow15_col0\" class=\"data row15 col0\" >38,000,000.00</td>\n",
       "                        <td id=\"T_0535c942_4b87_11ea_a628_798d4265cdccrow15_col1\" class=\"data row15 col1\" >July 17th, 2026</td>\n",
       "                        <td id=\"T_0535c942_4b87_11ea_a628_798d4265cdccrow15_col2\" class=\"data row15 col2\" >January 17th, 2027</td>\n",
       "                        <td id=\"T_0535c942_4b87_11ea_a628_798d4265cdccrow15_col3\" class=\"data row15 col3\" >January 17th, 2027</td>\n",
       "                        <td id=\"T_0535c942_4b87_11ea_a628_798d4265cdccrow15_col4\" class=\"data row15 col4\" >184</td>\n",
       "                        <td id=\"T_0535c942_4b87_11ea_a628_798d4265cdccrow15_col5\" class=\"data row15 col5\" >0.511111</td>\n",
       "                        <td id=\"T_0535c942_4b87_11ea_a628_798d4265cdccrow15_col6\" class=\"data row15 col6\" >0.00274277</td>\n",
       "                        <td id=\"T_0535c942_4b87_11ea_a628_798d4265cdccrow15_col7\" class=\"data row15 col7\" >53,270.71</td>\n",
       "            </tr>\n",
       "            <tr>\n",
       "                        <th id=\"T_0535c942_4b87_11ea_a628_798d4265cdcclevel0_row16\" class=\"row_heading level0 row16\" >16</th>\n",
       "                        <td id=\"T_0535c942_4b87_11ea_a628_798d4265cdccrow16_col0\" class=\"data row16 col0\" >38,000,000.00</td>\n",
       "                        <td id=\"T_0535c942_4b87_11ea_a628_798d4265cdccrow16_col1\" class=\"data row16 col1\" >January 17th, 2027</td>\n",
       "                        <td id=\"T_0535c942_4b87_11ea_a628_798d4265cdccrow16_col2\" class=\"data row16 col2\" >July 17th, 2027</td>\n",
       "                        <td id=\"T_0535c942_4b87_11ea_a628_798d4265cdccrow16_col3\" class=\"data row16 col3\" >July 17th, 2027</td>\n",
       "                        <td id=\"T_0535c942_4b87_11ea_a628_798d4265cdccrow16_col4\" class=\"data row16 col4\" >181</td>\n",
       "                        <td id=\"T_0535c942_4b87_11ea_a628_798d4265cdccrow16_col5\" class=\"data row16 col5\" >0.502778</td>\n",
       "                        <td id=\"T_0535c942_4b87_11ea_a628_798d4265cdccrow16_col6\" class=\"data row16 col6\" >0.0035224</td>\n",
       "                        <td id=\"T_0535c942_4b87_11ea_a628_798d4265cdccrow16_col7\" class=\"data row16 col7\" >67,297.45</td>\n",
       "            </tr>\n",
       "            <tr>\n",
       "                        <th id=\"T_0535c942_4b87_11ea_a628_798d4265cdcclevel0_row17\" class=\"row_heading level0 row17\" >17</th>\n",
       "                        <td id=\"T_0535c942_4b87_11ea_a628_798d4265cdccrow17_col0\" class=\"data row17 col0\" >38,000,000.00</td>\n",
       "                        <td id=\"T_0535c942_4b87_11ea_a628_798d4265cdccrow17_col1\" class=\"data row17 col1\" >July 17th, 2027</td>\n",
       "                        <td id=\"T_0535c942_4b87_11ea_a628_798d4265cdccrow17_col2\" class=\"data row17 col2\" >January 17th, 2028</td>\n",
       "                        <td id=\"T_0535c942_4b87_11ea_a628_798d4265cdccrow17_col3\" class=\"data row17 col3\" >January 17th, 2028</td>\n",
       "                        <td id=\"T_0535c942_4b87_11ea_a628_798d4265cdccrow17_col4\" class=\"data row17 col4\" >184</td>\n",
       "                        <td id=\"T_0535c942_4b87_11ea_a628_798d4265cdccrow17_col5\" class=\"data row17 col5\" >0.511111</td>\n",
       "                        <td id=\"T_0535c942_4b87_11ea_a628_798d4265cdccrow17_col6\" class=\"data row17 col6\" >0.00420636</td>\n",
       "                        <td id=\"T_0535c942_4b87_11ea_a628_798d4265cdccrow17_col7\" class=\"data row17 col7\" >81,696.76</td>\n",
       "            </tr>\n",
       "            <tr>\n",
       "                        <th id=\"T_0535c942_4b87_11ea_a628_798d4265cdcclevel0_row18\" class=\"row_heading level0 row18\" >18</th>\n",
       "                        <td id=\"T_0535c942_4b87_11ea_a628_798d4265cdccrow18_col0\" class=\"data row18 col0\" >38,000,000.00</td>\n",
       "                        <td id=\"T_0535c942_4b87_11ea_a628_798d4265cdccrow18_col1\" class=\"data row18 col1\" >January 17th, 2028</td>\n",
       "                        <td id=\"T_0535c942_4b87_11ea_a628_798d4265cdccrow18_col2\" class=\"data row18 col2\" >July 17th, 2028</td>\n",
       "                        <td id=\"T_0535c942_4b87_11ea_a628_798d4265cdccrow18_col3\" class=\"data row18 col3\" >July 17th, 2028</td>\n",
       "                        <td id=\"T_0535c942_4b87_11ea_a628_798d4265cdccrow18_col4\" class=\"data row18 col4\" >182</td>\n",
       "                        <td id=\"T_0535c942_4b87_11ea_a628_798d4265cdccrow18_col5\" class=\"data row18 col5\" >0.505556</td>\n",
       "                        <td id=\"T_0535c942_4b87_11ea_a628_798d4265cdccrow18_col6\" class=\"data row18 col6\" >0.00480766</td>\n",
       "                        <td id=\"T_0535c942_4b87_11ea_a628_798d4265cdccrow18_col7\" class=\"data row18 col7\" >92,360.50</td>\n",
       "            </tr>\n",
       "            <tr>\n",
       "                        <th id=\"T_0535c942_4b87_11ea_a628_798d4265cdcclevel0_row19\" class=\"row_heading level0 row19\" >19</th>\n",
       "                        <td id=\"T_0535c942_4b87_11ea_a628_798d4265cdccrow19_col0\" class=\"data row19 col0\" >38,000,000.00</td>\n",
       "                        <td id=\"T_0535c942_4b87_11ea_a628_798d4265cdccrow19_col1\" class=\"data row19 col1\" >July 17th, 2028</td>\n",
       "                        <td id=\"T_0535c942_4b87_11ea_a628_798d4265cdccrow19_col2\" class=\"data row19 col2\" >January 17th, 2029</td>\n",
       "                        <td id=\"T_0535c942_4b87_11ea_a628_798d4265cdccrow19_col3\" class=\"data row19 col3\" >January 17th, 2029</td>\n",
       "                        <td id=\"T_0535c942_4b87_11ea_a628_798d4265cdccrow19_col4\" class=\"data row19 col4\" >184</td>\n",
       "                        <td id=\"T_0535c942_4b87_11ea_a628_798d4265cdccrow19_col5\" class=\"data row19 col5\" >0.511111</td>\n",
       "                        <td id=\"T_0535c942_4b87_11ea_a628_798d4265cdccrow19_col6\" class=\"data row19 col6\" >0.00536722</td>\n",
       "                        <td id=\"T_0535c942_4b87_11ea_a628_798d4265cdccrow19_col7\" class=\"data row19 col7\" >104,243.39</td>\n",
       "            </tr>\n",
       "    </tbody></table>"
      ],
      "text/plain": [
       "<pandas.io.formats.style.Styler at 0x7f3d1ec50828>"
      ]
     },
     "execution_count": 24,
     "metadata": {},
     "output_type": "execute_result"
    }
   ],
   "source": [
    "props = ['nominal', 'accrualStartDate', 'accrualEndDate', 'date',\n",
    "         'accrualDays', 'accrualPeriod', 'rate', 'amount']\n",
    "leg_data = []\n",
    "for i, c in enumerate(swap.leg(1)):\n",
    "    cf = ql.as_coupon(c)    \n",
    "    leg_data.append({prop: eval(f\"cf.{prop}()\") for prop in props})\n",
    "pd.DataFrame(leg_data).style.format({\n",
    "    'amount': '{:,.2f}'.format,\n",
    "    'nominal': '{:,.2f}'.format,\n",
    "        })"
   ]
  },
  {
   "cell_type": "code",
   "execution_count": 25,
   "metadata": {},
   "outputs": [
    {
     "data": {
      "text/html": [
       "<style  type=\"text/css\" >\n",
       "</style><table id=\"T_0617c220_4b87_11ea_a628_798d4265cdcc\" ><thead>    <tr>        <th class=\"blank level0\" ></th>        <th class=\"col_heading level0 col0\" >nominal</th>        <th class=\"col_heading level0 col1\" >accrualStartDate</th>        <th class=\"col_heading level0 col2\" >accrualEndDate</th>        <th class=\"col_heading level0 col3\" >date</th>        <th class=\"col_heading level0 col4\" >accrualDays</th>        <th class=\"col_heading level0 col5\" >accrualPeriod</th>        <th class=\"col_heading level0 col6\" >rate</th>        <th class=\"col_heading level0 col7\" >amount</th>    </tr></thead><tbody>\n",
       "                <tr>\n",
       "                        <th id=\"T_0617c220_4b87_11ea_a628_798d4265cdcclevel0_row0\" class=\"row_heading level0 row0\" >0</th>\n",
       "                        <td id=\"T_0617c220_4b87_11ea_a628_798d4265cdccrow0_col0\" class=\"data row0 col0\" >38,000,000.00</td>\n",
       "                        <td id=\"T_0617c220_4b87_11ea_a628_798d4265cdccrow0_col1\" class=\"data row0 col1\" >January 17th, 2019</td>\n",
       "                        <td id=\"T_0617c220_4b87_11ea_a628_798d4265cdccrow0_col2\" class=\"data row0 col2\" >January 17th, 2020</td>\n",
       "                        <td id=\"T_0617c220_4b87_11ea_a628_798d4265cdccrow0_col3\" class=\"data row0 col3\" >January 17th, 2020</td>\n",
       "                        <td id=\"T_0617c220_4b87_11ea_a628_798d4265cdccrow0_col4\" class=\"data row0 col4\" >360</td>\n",
       "                        <td id=\"T_0617c220_4b87_11ea_a628_798d4265cdccrow0_col5\" class=\"data row0 col5\" >1</td>\n",
       "                        <td id=\"T_0617c220_4b87_11ea_a628_798d4265cdccrow0_col6\" class=\"data row0 col6\" >0.00825274</td>\n",
       "                        <td id=\"T_0617c220_4b87_11ea_a628_798d4265cdccrow0_col7\" class=\"data row0 col7\" >313,604.02</td>\n",
       "            </tr>\n",
       "            <tr>\n",
       "                        <th id=\"T_0617c220_4b87_11ea_a628_798d4265cdcclevel0_row1\" class=\"row_heading level0 row1\" >1</th>\n",
       "                        <td id=\"T_0617c220_4b87_11ea_a628_798d4265cdccrow1_col0\" class=\"data row1 col0\" >38,000,000.00</td>\n",
       "                        <td id=\"T_0617c220_4b87_11ea_a628_798d4265cdccrow1_col1\" class=\"data row1 col1\" >January 17th, 2020</td>\n",
       "                        <td id=\"T_0617c220_4b87_11ea_a628_798d4265cdccrow1_col2\" class=\"data row1 col2\" >January 17th, 2021</td>\n",
       "                        <td id=\"T_0617c220_4b87_11ea_a628_798d4265cdccrow1_col3\" class=\"data row1 col3\" >January 17th, 2021</td>\n",
       "                        <td id=\"T_0617c220_4b87_11ea_a628_798d4265cdccrow1_col4\" class=\"data row1 col4\" >360</td>\n",
       "                        <td id=\"T_0617c220_4b87_11ea_a628_798d4265cdccrow1_col5\" class=\"data row1 col5\" >1</td>\n",
       "                        <td id=\"T_0617c220_4b87_11ea_a628_798d4265cdccrow1_col6\" class=\"data row1 col6\" >0.00825274</td>\n",
       "                        <td id=\"T_0617c220_4b87_11ea_a628_798d4265cdccrow1_col7\" class=\"data row1 col7\" >313,604.02</td>\n",
       "            </tr>\n",
       "            <tr>\n",
       "                        <th id=\"T_0617c220_4b87_11ea_a628_798d4265cdcclevel0_row2\" class=\"row_heading level0 row2\" >2</th>\n",
       "                        <td id=\"T_0617c220_4b87_11ea_a628_798d4265cdccrow2_col0\" class=\"data row2 col0\" >38,000,000.00</td>\n",
       "                        <td id=\"T_0617c220_4b87_11ea_a628_798d4265cdccrow2_col1\" class=\"data row2 col1\" >January 17th, 2021</td>\n",
       "                        <td id=\"T_0617c220_4b87_11ea_a628_798d4265cdccrow2_col2\" class=\"data row2 col2\" >January 17th, 2022</td>\n",
       "                        <td id=\"T_0617c220_4b87_11ea_a628_798d4265cdccrow2_col3\" class=\"data row2 col3\" >January 17th, 2022</td>\n",
       "                        <td id=\"T_0617c220_4b87_11ea_a628_798d4265cdccrow2_col4\" class=\"data row2 col4\" >360</td>\n",
       "                        <td id=\"T_0617c220_4b87_11ea_a628_798d4265cdccrow2_col5\" class=\"data row2 col5\" >1</td>\n",
       "                        <td id=\"T_0617c220_4b87_11ea_a628_798d4265cdccrow2_col6\" class=\"data row2 col6\" >0.00825274</td>\n",
       "                        <td id=\"T_0617c220_4b87_11ea_a628_798d4265cdccrow2_col7\" class=\"data row2 col7\" >313,604.02</td>\n",
       "            </tr>\n",
       "            <tr>\n",
       "                        <th id=\"T_0617c220_4b87_11ea_a628_798d4265cdcclevel0_row3\" class=\"row_heading level0 row3\" >3</th>\n",
       "                        <td id=\"T_0617c220_4b87_11ea_a628_798d4265cdccrow3_col0\" class=\"data row3 col0\" >38,000,000.00</td>\n",
       "                        <td id=\"T_0617c220_4b87_11ea_a628_798d4265cdccrow3_col1\" class=\"data row3 col1\" >January 17th, 2022</td>\n",
       "                        <td id=\"T_0617c220_4b87_11ea_a628_798d4265cdccrow3_col2\" class=\"data row3 col2\" >January 17th, 2023</td>\n",
       "                        <td id=\"T_0617c220_4b87_11ea_a628_798d4265cdccrow3_col3\" class=\"data row3 col3\" >January 17th, 2023</td>\n",
       "                        <td id=\"T_0617c220_4b87_11ea_a628_798d4265cdccrow3_col4\" class=\"data row3 col4\" >360</td>\n",
       "                        <td id=\"T_0617c220_4b87_11ea_a628_798d4265cdccrow3_col5\" class=\"data row3 col5\" >1</td>\n",
       "                        <td id=\"T_0617c220_4b87_11ea_a628_798d4265cdccrow3_col6\" class=\"data row3 col6\" >0.00825274</td>\n",
       "                        <td id=\"T_0617c220_4b87_11ea_a628_798d4265cdccrow3_col7\" class=\"data row3 col7\" >313,604.02</td>\n",
       "            </tr>\n",
       "            <tr>\n",
       "                        <th id=\"T_0617c220_4b87_11ea_a628_798d4265cdcclevel0_row4\" class=\"row_heading level0 row4\" >4</th>\n",
       "                        <td id=\"T_0617c220_4b87_11ea_a628_798d4265cdccrow4_col0\" class=\"data row4 col0\" >38,000,000.00</td>\n",
       "                        <td id=\"T_0617c220_4b87_11ea_a628_798d4265cdccrow4_col1\" class=\"data row4 col1\" >January 17th, 2023</td>\n",
       "                        <td id=\"T_0617c220_4b87_11ea_a628_798d4265cdccrow4_col2\" class=\"data row4 col2\" >January 17th, 2024</td>\n",
       "                        <td id=\"T_0617c220_4b87_11ea_a628_798d4265cdccrow4_col3\" class=\"data row4 col3\" >January 17th, 2024</td>\n",
       "                        <td id=\"T_0617c220_4b87_11ea_a628_798d4265cdccrow4_col4\" class=\"data row4 col4\" >360</td>\n",
       "                        <td id=\"T_0617c220_4b87_11ea_a628_798d4265cdccrow4_col5\" class=\"data row4 col5\" >1</td>\n",
       "                        <td id=\"T_0617c220_4b87_11ea_a628_798d4265cdccrow4_col6\" class=\"data row4 col6\" >0.00825274</td>\n",
       "                        <td id=\"T_0617c220_4b87_11ea_a628_798d4265cdccrow4_col7\" class=\"data row4 col7\" >313,604.02</td>\n",
       "            </tr>\n",
       "            <tr>\n",
       "                        <th id=\"T_0617c220_4b87_11ea_a628_798d4265cdcclevel0_row5\" class=\"row_heading level0 row5\" >5</th>\n",
       "                        <td id=\"T_0617c220_4b87_11ea_a628_798d4265cdccrow5_col0\" class=\"data row5 col0\" >38,000,000.00</td>\n",
       "                        <td id=\"T_0617c220_4b87_11ea_a628_798d4265cdccrow5_col1\" class=\"data row5 col1\" >January 17th, 2024</td>\n",
       "                        <td id=\"T_0617c220_4b87_11ea_a628_798d4265cdccrow5_col2\" class=\"data row5 col2\" >January 17th, 2025</td>\n",
       "                        <td id=\"T_0617c220_4b87_11ea_a628_798d4265cdccrow5_col3\" class=\"data row5 col3\" >January 17th, 2025</td>\n",
       "                        <td id=\"T_0617c220_4b87_11ea_a628_798d4265cdccrow5_col4\" class=\"data row5 col4\" >360</td>\n",
       "                        <td id=\"T_0617c220_4b87_11ea_a628_798d4265cdccrow5_col5\" class=\"data row5 col5\" >1</td>\n",
       "                        <td id=\"T_0617c220_4b87_11ea_a628_798d4265cdccrow5_col6\" class=\"data row5 col6\" >0.00825274</td>\n",
       "                        <td id=\"T_0617c220_4b87_11ea_a628_798d4265cdccrow5_col7\" class=\"data row5 col7\" >313,604.02</td>\n",
       "            </tr>\n",
       "            <tr>\n",
       "                        <th id=\"T_0617c220_4b87_11ea_a628_798d4265cdcclevel0_row6\" class=\"row_heading level0 row6\" >6</th>\n",
       "                        <td id=\"T_0617c220_4b87_11ea_a628_798d4265cdccrow6_col0\" class=\"data row6 col0\" >38,000,000.00</td>\n",
       "                        <td id=\"T_0617c220_4b87_11ea_a628_798d4265cdccrow6_col1\" class=\"data row6 col1\" >January 17th, 2025</td>\n",
       "                        <td id=\"T_0617c220_4b87_11ea_a628_798d4265cdccrow6_col2\" class=\"data row6 col2\" >January 17th, 2026</td>\n",
       "                        <td id=\"T_0617c220_4b87_11ea_a628_798d4265cdccrow6_col3\" class=\"data row6 col3\" >January 17th, 2026</td>\n",
       "                        <td id=\"T_0617c220_4b87_11ea_a628_798d4265cdccrow6_col4\" class=\"data row6 col4\" >360</td>\n",
       "                        <td id=\"T_0617c220_4b87_11ea_a628_798d4265cdccrow6_col5\" class=\"data row6 col5\" >1</td>\n",
       "                        <td id=\"T_0617c220_4b87_11ea_a628_798d4265cdccrow6_col6\" class=\"data row6 col6\" >0.00825274</td>\n",
       "                        <td id=\"T_0617c220_4b87_11ea_a628_798d4265cdccrow6_col7\" class=\"data row6 col7\" >313,604.02</td>\n",
       "            </tr>\n",
       "            <tr>\n",
       "                        <th id=\"T_0617c220_4b87_11ea_a628_798d4265cdcclevel0_row7\" class=\"row_heading level0 row7\" >7</th>\n",
       "                        <td id=\"T_0617c220_4b87_11ea_a628_798d4265cdccrow7_col0\" class=\"data row7 col0\" >38,000,000.00</td>\n",
       "                        <td id=\"T_0617c220_4b87_11ea_a628_798d4265cdccrow7_col1\" class=\"data row7 col1\" >January 17th, 2026</td>\n",
       "                        <td id=\"T_0617c220_4b87_11ea_a628_798d4265cdccrow7_col2\" class=\"data row7 col2\" >January 17th, 2027</td>\n",
       "                        <td id=\"T_0617c220_4b87_11ea_a628_798d4265cdccrow7_col3\" class=\"data row7 col3\" >January 17th, 2027</td>\n",
       "                        <td id=\"T_0617c220_4b87_11ea_a628_798d4265cdccrow7_col4\" class=\"data row7 col4\" >360</td>\n",
       "                        <td id=\"T_0617c220_4b87_11ea_a628_798d4265cdccrow7_col5\" class=\"data row7 col5\" >1</td>\n",
       "                        <td id=\"T_0617c220_4b87_11ea_a628_798d4265cdccrow7_col6\" class=\"data row7 col6\" >0.00825274</td>\n",
       "                        <td id=\"T_0617c220_4b87_11ea_a628_798d4265cdccrow7_col7\" class=\"data row7 col7\" >313,604.02</td>\n",
       "            </tr>\n",
       "            <tr>\n",
       "                        <th id=\"T_0617c220_4b87_11ea_a628_798d4265cdcclevel0_row8\" class=\"row_heading level0 row8\" >8</th>\n",
       "                        <td id=\"T_0617c220_4b87_11ea_a628_798d4265cdccrow8_col0\" class=\"data row8 col0\" >38,000,000.00</td>\n",
       "                        <td id=\"T_0617c220_4b87_11ea_a628_798d4265cdccrow8_col1\" class=\"data row8 col1\" >January 17th, 2027</td>\n",
       "                        <td id=\"T_0617c220_4b87_11ea_a628_798d4265cdccrow8_col2\" class=\"data row8 col2\" >January 17th, 2028</td>\n",
       "                        <td id=\"T_0617c220_4b87_11ea_a628_798d4265cdccrow8_col3\" class=\"data row8 col3\" >January 17th, 2028</td>\n",
       "                        <td id=\"T_0617c220_4b87_11ea_a628_798d4265cdccrow8_col4\" class=\"data row8 col4\" >360</td>\n",
       "                        <td id=\"T_0617c220_4b87_11ea_a628_798d4265cdccrow8_col5\" class=\"data row8 col5\" >1</td>\n",
       "                        <td id=\"T_0617c220_4b87_11ea_a628_798d4265cdccrow8_col6\" class=\"data row8 col6\" >0.00825274</td>\n",
       "                        <td id=\"T_0617c220_4b87_11ea_a628_798d4265cdccrow8_col7\" class=\"data row8 col7\" >313,604.02</td>\n",
       "            </tr>\n",
       "            <tr>\n",
       "                        <th id=\"T_0617c220_4b87_11ea_a628_798d4265cdcclevel0_row9\" class=\"row_heading level0 row9\" >9</th>\n",
       "                        <td id=\"T_0617c220_4b87_11ea_a628_798d4265cdccrow9_col0\" class=\"data row9 col0\" >38,000,000.00</td>\n",
       "                        <td id=\"T_0617c220_4b87_11ea_a628_798d4265cdccrow9_col1\" class=\"data row9 col1\" >January 17th, 2028</td>\n",
       "                        <td id=\"T_0617c220_4b87_11ea_a628_798d4265cdccrow9_col2\" class=\"data row9 col2\" >January 17th, 2029</td>\n",
       "                        <td id=\"T_0617c220_4b87_11ea_a628_798d4265cdccrow9_col3\" class=\"data row9 col3\" >January 17th, 2029</td>\n",
       "                        <td id=\"T_0617c220_4b87_11ea_a628_798d4265cdccrow9_col4\" class=\"data row9 col4\" >360</td>\n",
       "                        <td id=\"T_0617c220_4b87_11ea_a628_798d4265cdccrow9_col5\" class=\"data row9 col5\" >1</td>\n",
       "                        <td id=\"T_0617c220_4b87_11ea_a628_798d4265cdccrow9_col6\" class=\"data row9 col6\" >0.00825274</td>\n",
       "                        <td id=\"T_0617c220_4b87_11ea_a628_798d4265cdccrow9_col7\" class=\"data row9 col7\" >313,604.02</td>\n",
       "            </tr>\n",
       "    </tbody></table>"
      ],
      "text/plain": [
       "<pandas.io.formats.style.Styler at 0x7f3d1ea83588>"
      ]
     },
     "execution_count": 25,
     "metadata": {},
     "output_type": "execute_result"
    }
   ],
   "source": [
    "leg_data = []\n",
    "for i, c in enumerate(swap.leg(0)):\n",
    "    cf = ql.as_coupon(c)    \n",
    "    leg_data.append({prop: eval(f\"cf.{prop}()\") for prop in props})\n",
    "pd.DataFrame(leg_data).style.format({\n",
    "    'amount': '{:,.2f}'.format,\n",
    "    'nominal': '{:,.2f}'.format,\n",
    "        })"
   ]
  },
  {
   "cell_type": "markdown",
   "metadata": {},
   "source": [
    "### 3. Another alternative would be to enter into an Interest Rate Swap that is cancellable once (european) after 5 years."
   ]
  },
  {
   "cell_type": "markdown",
   "metadata": {},
   "source": [
    "#### A. What would the the rate of the cancellable swap (also taking into account the 5bps charge)?"
   ]
  },
  {
   "cell_type": "code",
   "execution_count": 26,
   "metadata": {},
   "outputs": [],
   "source": [
    "today = ql.Date(15, 1, 2019)\n",
    "ql.Settings.instance().evaluationDate = today\n",
    "curve = makeSwapCurve('2019-01-15')\n",
    "yts.linkTo(curve)"
   ]
  },
  {
   "cell_type": "markdown",
   "metadata": {},
   "source": [
    "#### Forward Swap"
   ]
  },
  {
   "cell_type": "code",
   "execution_count": 45,
   "metadata": {},
   "outputs": [
    {
     "data": {
      "text/plain": [
       "0.0141528829674995"
      ]
     },
     "execution_count": 45,
     "metadata": {},
     "output_type": "execute_result"
    }
   ],
   "source": [
    "forward = ql.MakeVanillaSwap(ql.Period('5y'), ql.Euribor6M(yts), 0.0, ql.Period('5y'))\n",
    "forward.fairRate()"
   ]
  },
  {
   "cell_type": "markdown",
   "metadata": {},
   "source": [
    "#### Swaption (Bachelier)"
   ]
  },
  {
   "cell_type": "code",
   "execution_count": 46,
   "metadata": {},
   "outputs": [],
   "source": [
    "norm_vol_data = pd.read_excel(\n",
    "    file,\n",
    "    index_col=0,\n",
    "    skiprows=1,\n",
    "    sheet_name='Historic Normal Vol'\n",
    ").dropna()"
   ]
  },
  {
   "cell_type": "code",
   "execution_count": 47,
   "metadata": {},
   "outputs": [
    {
     "data": {
      "text/html": [
       "<div>\n",
       "<style scoped>\n",
       "    .dataframe tbody tr th:only-of-type {\n",
       "        vertical-align: middle;\n",
       "    }\n",
       "\n",
       "    .dataframe tbody tr th {\n",
       "        vertical-align: top;\n",
       "    }\n",
       "\n",
       "    .dataframe thead th {\n",
       "        text-align: right;\n",
       "    }\n",
       "</style>\n",
       "<table border=\"1\" class=\"dataframe\">\n",
       "  <thead>\n",
       "    <tr style=\"text-align: right;\">\n",
       "      <th></th>\n",
       "      <th>0.083333</th>\n",
       "      <th>0.166667</th>\n",
       "      <th>0.250000</th>\n",
       "      <th>0.500000</th>\n",
       "      <th>0.750000</th>\n",
       "      <th>1.000000</th>\n",
       "      <th>1.500000</th>\n",
       "      <th>2.000000</th>\n",
       "      <th>3.000000</th>\n",
       "      <th>4.000000</th>\n",
       "      <th>5.000000</th>\n",
       "    </tr>\n",
       "  </thead>\n",
       "  <tbody>\n",
       "    <tr>\n",
       "      <th>2019-01-01</th>\n",
       "      <td>28.2</td>\n",
       "      <td>30.4</td>\n",
       "      <td>31.7</td>\n",
       "      <td>35.0</td>\n",
       "      <td>38.0</td>\n",
       "      <td>40.5</td>\n",
       "      <td>44.8</td>\n",
       "      <td>48.9</td>\n",
       "      <td>55.1</td>\n",
       "      <td>59.3</td>\n",
       "      <td>62.0</td>\n",
       "    </tr>\n",
       "    <tr>\n",
       "      <th>2019-01-02</th>\n",
       "      <td>32.5</td>\n",
       "      <td>33.3</td>\n",
       "      <td>33.8</td>\n",
       "      <td>36.1</td>\n",
       "      <td>38.5</td>\n",
       "      <td>40.5</td>\n",
       "      <td>44.5</td>\n",
       "      <td>48.4</td>\n",
       "      <td>54.6</td>\n",
       "      <td>59.0</td>\n",
       "      <td>61.9</td>\n",
       "    </tr>\n",
       "    <tr>\n",
       "      <th>2019-01-03</th>\n",
       "      <td>32.1</td>\n",
       "      <td>32.6</td>\n",
       "      <td>33.8</td>\n",
       "      <td>35.5</td>\n",
       "      <td>38.0</td>\n",
       "      <td>40.2</td>\n",
       "      <td>44.2</td>\n",
       "      <td>48.1</td>\n",
       "      <td>54.6</td>\n",
       "      <td>59.0</td>\n",
       "      <td>61.9</td>\n",
       "    </tr>\n",
       "    <tr>\n",
       "      <th>2019-01-04</th>\n",
       "      <td>32.4</td>\n",
       "      <td>32.1</td>\n",
       "      <td>33.4</td>\n",
       "      <td>35.2</td>\n",
       "      <td>37.9</td>\n",
       "      <td>40.0</td>\n",
       "      <td>44.1</td>\n",
       "      <td>48.0</td>\n",
       "      <td>54.5</td>\n",
       "      <td>59.0</td>\n",
       "      <td>61.9</td>\n",
       "    </tr>\n",
       "    <tr>\n",
       "      <th>2019-01-07</th>\n",
       "      <td>33.3</td>\n",
       "      <td>32.5</td>\n",
       "      <td>33.2</td>\n",
       "      <td>35.1</td>\n",
       "      <td>37.7</td>\n",
       "      <td>39.8</td>\n",
       "      <td>43.9</td>\n",
       "      <td>47.8</td>\n",
       "      <td>54.1</td>\n",
       "      <td>58.5</td>\n",
       "      <td>61.3</td>\n",
       "    </tr>\n",
       "  </tbody>\n",
       "</table>\n",
       "</div>"
      ],
      "text/plain": [
       "            0.083333  0.166667  0.250000  0.500000  0.750000  1.000000  \\\n",
       "2019-01-01      28.2      30.4      31.7      35.0      38.0      40.5   \n",
       "2019-01-02      32.5      33.3      33.8      36.1      38.5      40.5   \n",
       "2019-01-03      32.1      32.6      33.8      35.5      38.0      40.2   \n",
       "2019-01-04      32.4      32.1      33.4      35.2      37.9      40.0   \n",
       "2019-01-07      33.3      32.5      33.2      35.1      37.7      39.8   \n",
       "\n",
       "            1.500000  2.000000  3.000000  4.000000  5.000000  \n",
       "2019-01-01      44.8      48.9      55.1      59.3      62.0  \n",
       "2019-01-02      44.5      48.4      54.6      59.0      61.9  \n",
       "2019-01-03      44.2      48.1      54.6      59.0      61.9  \n",
       "2019-01-04      44.1      48.0      54.5      59.0      61.9  \n",
       "2019-01-07      43.9      47.8      54.1      58.5      61.3  "
      ]
     },
     "execution_count": 47,
     "metadata": {},
     "output_type": "execute_result"
    }
   ],
   "source": [
    "norm_vols = norm_vol_data[norm_vol_data.columns[:11]]\n",
    "expiries = [x[:-2] for x in norm_vols.columns]\n",
    "expiries = [int(x[:-1]) / 12 if 'M' in x else int(x[:-1])  for x in expiries]\n",
    "norm_vols.columns = expiries\n",
    "norm_vols.head()"
   ]
  },
  {
   "cell_type": "code",
   "execution_count": 48,
   "metadata": {},
   "outputs": [],
   "source": [
    "def lookupVol(dt, expiry):\n",
    "    curve_date = datetime.strptime(dt, '%Y-%m-%d')\n",
    "    expiry_date = datetime.strptime(expiry, '%Y-%m-%d')\n",
    "    x = (expiry_date - curve_date).days / 365.25    \n",
    "    Y = norm_vols.loc[dt].values    \n",
    "    X = norm_vols.columns\n",
    "    return np.interp(x, X, Y) / 10000"
   ]
  },
  {
   "cell_type": "code",
   "execution_count": 49,
   "metadata": {},
   "outputs": [],
   "source": [
    "vol = 0.00603\n",
    "vol_quote = ql.SimpleQuote(vol)\n",
    "vol_handle  = ql.QuoteHandle(vol_quote)\n",
    "\n",
    "def makeSwaption(forwardRate):\n",
    "    forward = ql.MakeVanillaSwap(ql.Period('5y'), ql.Euribor6M(yts), forwardRate, ql.Period('5y'), Nominal=nominal, receiveFixed=False)\n",
    "    forward.setPricingEngine(swapEngine)\n",
    "    exercised = ql.EuropeanExercise(ql.Date(15,1,2024))\n",
    "    settlementtype = \"physical\"\n",
    "    swaption = ql.Swaption(forward, exercised)\n",
    "    swaption.setPricingEngine(ql.BachelierSwaptionEngine(yts, vol_handle))\n",
    "    return swaption"
   ]
  },
  {
   "cell_type": "code",
   "execution_count": 50,
   "metadata": {},
   "outputs": [],
   "source": [
    "def position(rate):\n",
    "    rate = float(rate)\n",
    "    swap = makeSwap(rate)    \n",
    "    swpm = makeSwaption(rate)\n",
    "    return swap.NPV() - swpm.NPV()"
   ]
  },
  {
   "cell_type": "code",
   "execution_count": 51,
   "metadata": {},
   "outputs": [
    {
     "name": "stdout",
     "output_type": "stream",
     "text": [
      "Fair value of cancellable swap is:\t0.0580%\n",
      "Charge (%):\t\t\t\t0.0500%\n",
      "Final Rate:\t\t\t\t0.1080%\n"
     ]
    }
   ],
   "source": [
    "from scipy.optimize import root\n",
    "root(position, 0)['x'][0]\n",
    "\n",
    "rate = root(position, 1)['x'][0]\n",
    "print(f\"Fair value of cancellable swap is:\\t{rate * 100:.4f}%\")\n",
    "print(f\"Charge (%):\\t\\t\\t\\t{charge * 100:.4f}%\")\n",
    "final_rate = rate + charge\n",
    "\n",
    "print(f\"Final Rate:\\t\\t\\t\\t{(final_rate) * 100:.4f}%\")"
   ]
  },
  {
   "cell_type": "code",
   "execution_count": 52,
   "metadata": {},
   "outputs": [
    {
     "name": "stdout",
     "output_type": "stream",
     "text": [
      "Rate for Bisect solver is: 0.0580120%\n",
      "Rate for Brent solver is: 0.0580090%\n",
      "Rate for Ridder solver is: 0.0580078%\n",
      "Rate for FalsePosition solver is: 0.0580072%\n",
      "Rate for Secant solver is: 0.0580078%\n"
     ]
    }
   ],
   "source": [
    "# QuantLib has several different solvers...\n",
    "accuracy = 0.0000001\n",
    "guess = 0.0\n",
    "mn = -0.01\n",
    "mx = 0.02\n",
    "\n",
    "solvers = {\n",
    "    'Bisect': ql.Bisection(),\n",
    "    'Brent': ql.Brent(),\n",
    "    'Ridder': ql.Ridder(),\n",
    "    'FalsePosition': ql.FalsePosition(),\n",
    "    'Secant': ql.Secant()\n",
    "}\n",
    "\n",
    "for name, solver in solvers.items():\n",
    "    rate = solver.solve(position, accuracy, guess, mn, mx)\n",
    "    print(f\"Rate for {name} solver is: {rate*100:.7f}%\")"
   ]
  },
  {
   "cell_type": "code",
   "execution_count": 53,
   "metadata": {},
   "outputs": [
    {
     "name": "stdout",
     "output_type": "stream",
     "text": [
      "10y Swap Rate: \t\t\t0.7753%\n",
      "5y5y Forward Swap Rate: \t1.4153%\n",
      "Calcellable Swap Rate is \t0.0580%\n",
      "Charge (%):\t\t\t0.0500%\n",
      "Final Rate:\t\t\t0.1080%\n"
     ]
    }
   ],
   "source": [
    "print(f\"10y Swap Rate: \\t\\t\\t{swap.fairRate() * 100:,.4f}%\")\n",
    "print(f\"5y5y Forward Swap Rate: \\t{forward.fairRate() * 100:,.4f}%\")\n",
    "print(f\"Calcellable Swap Rate is \\t{rate * 100:,.4f}%\")\n",
    "charge = 0.05 / 100\n",
    "print(f\"Charge (%):\\t\\t\\t{charge * 100:.4f}%\")\n",
    "final_rate = rate + charge\n",
    "\n",
    "print(f\"Final Rate:\\t\\t\\t{(final_rate) * 100:.4f}%\")"
   ]
  },
  {
   "cell_type": "markdown",
   "metadata": {},
   "source": [
    "#### B. Consider that today is 25th of November 2019 and calculate the monthly historic market value of the cancellabel swap (from 15.01.2019 to 25.11.2019)."
   ]
  },
  {
   "cell_type": "code",
   "execution_count": 54,
   "metadata": {},
   "outputs": [],
   "source": [
    "swap = makeSwap(final_rate)    \n",
    "swpm = makeSwaption(final_rate)"
   ]
  },
  {
   "cell_type": "code",
   "execution_count": 55,
   "metadata": {},
   "outputs": [
    {
     "name": "stdout",
     "output_type": "stream",
     "text": [
      "CPU times: user 1.96 s, sys: 3.49 ms, total: 1.96 s\n",
      "Wall time: 1.96 s\n"
     ]
    }
   ],
   "source": [
    "%%time\n",
    "cancellable_valuations = pd.DataFrame()\n",
    "for idx, row in swap_quotes.loc['2019-01-15':].iterrows():\n",
    "    today = ql.Date(idx.day, idx.month, idx.year)\n",
    "    ql.Settings.instance().evaluationDate = today\n",
    "    curve = makeSwapCurve(idx)\n",
    "    yts.linkTo(curve)\n",
    "    cancellable_valuations.loc[idx, 'swap mtm'] = swap.NPV()\n",
    "    cancellable_valuations.loc[idx, 'swaption mtm'] = swpm.NPV()\n",
    "cancellable_valuations['total mtm'] = cancellable_valuations['swap mtm'] - cancellable_valuations['swaption mtm']"
   ]
  },
  {
   "cell_type": "code",
   "execution_count": 56,
   "metadata": {},
   "outputs": [
    {
     "data": {
      "image/png": "[encoded data removed]",
      "text/plain": [
       "<Figure size 1080x360 with 2 Axes>"
      ]
     },
     "metadata": {
      "needs_background": "light"
     },
     "output_type": "display_data"
    }
   ],
   "source": [
    "ax = cancellable_valuations['total mtm'].plot(figsize=(15,5));\n",
    "valuations.plot(figsize=(15,5), label=\"cancellable\", ax=ax, color=\"red\");\n",
    "ax2 = ax.twinx()\n",
    "swap_quotes.loc['2019-01-15':, '10Y'].plot(figsize=(15,5));"
   ]
  },
  {
   "cell_type": "code",
   "execution_count": 57,
   "metadata": {},
   "outputs": [
    {
     "data": {
      "text/html": [
       "<div>\n",
       "<style scoped>\n",
       "    .dataframe tbody tr th:only-of-type {\n",
       "        vertical-align: middle;\n",
       "    }\n",
       "\n",
       "    .dataframe tbody tr th {\n",
       "        vertical-align: top;\n",
       "    }\n",
       "\n",
       "    .dataframe thead th {\n",
       "        text-align: right;\n",
       "    }\n",
       "</style>\n",
       "<table border=\"1\" class=\"dataframe\">\n",
       "  <thead>\n",
       "    <tr style=\"text-align: right;\">\n",
       "      <th></th>\n",
       "      <th>swap mtm</th>\n",
       "      <th>swaption mtm</th>\n",
       "      <th>total mtm</th>\n",
       "    </tr>\n",
       "  </thead>\n",
       "  <tbody>\n",
       "    <tr>\n",
       "      <th>2019-01-15</th>\n",
       "      <td>2.477972e+06</td>\n",
       "      <td>2.587609e+06</td>\n",
       "      <td>-1.096368e+05</td>\n",
       "    </tr>\n",
       "    <tr>\n",
       "      <th>2019-01-16</th>\n",
       "      <td>2.509827e+06</td>\n",
       "      <td>2.593877e+06</td>\n",
       "      <td>-8.404952e+04</td>\n",
       "    </tr>\n",
       "    <tr>\n",
       "      <th>2019-01-17</th>\n",
       "      <td>2.539765e+06</td>\n",
       "      <td>2.603316e+06</td>\n",
       "      <td>-6.355091e+04</td>\n",
       "    </tr>\n",
       "    <tr>\n",
       "      <th>2019-01-18</th>\n",
       "      <td>2.589126e+06</td>\n",
       "      <td>2.606207e+06</td>\n",
       "      <td>-1.708117e+04</td>\n",
       "    </tr>\n",
       "    <tr>\n",
       "      <th>2019-01-21</th>\n",
       "      <td>2.556039e+06</td>\n",
       "      <td>2.590678e+06</td>\n",
       "      <td>-3.463959e+04</td>\n",
       "    </tr>\n",
       "    <tr>\n",
       "      <th>...</th>\n",
       "      <td>...</td>\n",
       "      <td>...</td>\n",
       "      <td>...</td>\n",
       "    </tr>\n",
       "    <tr>\n",
       "      <th>2019-11-19</th>\n",
       "      <td>-3.636559e+05</td>\n",
       "      <td>1.097437e+06</td>\n",
       "      <td>-1.461092e+06</td>\n",
       "    </tr>\n",
       "    <tr>\n",
       "      <th>2019-11-20</th>\n",
       "      <td>-3.938613e+05</td>\n",
       "      <td>1.084840e+06</td>\n",
       "      <td>-1.478701e+06</td>\n",
       "    </tr>\n",
       "    <tr>\n",
       "      <th>2019-11-21</th>\n",
       "      <td>-3.207313e+05</td>\n",
       "      <td>1.108659e+06</td>\n",
       "      <td>-1.429391e+06</td>\n",
       "    </tr>\n",
       "    <tr>\n",
       "      <th>2019-11-22</th>\n",
       "      <td>-4.399816e+05</td>\n",
       "      <td>1.061048e+06</td>\n",
       "      <td>-1.501029e+06</td>\n",
       "    </tr>\n",
       "    <tr>\n",
       "      <th>2019-11-25</th>\n",
       "      <td>-4.037471e+05</td>\n",
       "      <td>1.076091e+06</td>\n",
       "      <td>-1.479838e+06</td>\n",
       "    </tr>\n",
       "  </tbody>\n",
       "</table>\n",
       "<p>222 rows × 3 columns</p>\n",
       "</div>"
      ],
      "text/plain": [
       "                swap mtm  swaption mtm     total mtm\n",
       "2019-01-15  2.477972e+06  2.587609e+06 -1.096368e+05\n",
       "2019-01-16  2.509827e+06  2.593877e+06 -8.404952e+04\n",
       "2019-01-17  2.539765e+06  2.603316e+06 -6.355091e+04\n",
       "2019-01-18  2.589126e+06  2.606207e+06 -1.708117e+04\n",
       "2019-01-21  2.556039e+06  2.590678e+06 -3.463959e+04\n",
       "...                  ...           ...           ...\n",
       "2019-11-19 -3.636559e+05  1.097437e+06 -1.461092e+06\n",
       "2019-11-20 -3.938613e+05  1.084840e+06 -1.478701e+06\n",
       "2019-11-21 -3.207313e+05  1.108659e+06 -1.429391e+06\n",
       "2019-11-22 -4.399816e+05  1.061048e+06 -1.501029e+06\n",
       "2019-11-25 -4.037471e+05  1.076091e+06 -1.479838e+06\n",
       "\n",
       "[222 rows x 3 columns]"
      ]
     },
     "execution_count": 57,
     "metadata": {},
     "output_type": "execute_result"
    }
   ],
   "source": [
    "cancellable_valuations"
   ]
  }
 ],
 "metadata": {
  "kernelspec": {
   "display_name": "Python 3",
   "language": "python",
   "name": "python3"
  },
  "language_info": {
   "codemirror_mode": {
    "name": "ipython",
    "version": 3
   },
   "file_extension": ".py",
   "mimetype": "text/x-python",
   "name": "python",
   "nbconvert_exporter": "python",
   "pygments_lexer": "ipython3",
   "version": "3.9.0"
  }
 },
 "nbformat": 4,
 "nbformat_minor": 4
}